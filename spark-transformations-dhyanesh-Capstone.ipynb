{
 "cells": [
  {
   "cell_type": "markdown",
   "metadata": {
    "application/vnd.databricks.v1+cell": {
     "cellMetadata": {},
     "inputWidgets": {},
     "nuid": "fe3f4737-e768-4c56-9977-3d920ae7ce6b",
     "showTitle": false,
     "title": ""
    }
   },
   "source": [
    "### Importing necessary libraries"
   ]
  },
  {
   "cell_type": "code",
   "execution_count": 0,
   "metadata": {
    "application/vnd.databricks.v1+cell": {
     "cellMetadata": {},
     "inputWidgets": {},
     "nuid": "0c9febdb-05e7-4a9d-836c-2011052f5dc3",
     "showTitle": false,
     "title": ""
    }
   },
   "outputs": [],
   "source": [
    "from pyspark.sql.functions import when, col, expr, round, min, max, regexp_replace\n",
    "from pyspark.sql.types import StructType, StructField, StringType, DoubleType, BooleanType, IntegerType, TimestampType, FloatType"
   ]
  },
  {
   "cell_type": "markdown",
   "metadata": {
    "application/vnd.databricks.v1+cell": {
     "cellMetadata": {},
     "inputWidgets": {},
     "nuid": "696fba26-5695-4cc7-996d-81bcf35cdff0",
     "showTitle": false,
     "title": ""
    }
   },
   "source": [
    "##### Setting up ADLS account key config"
   ]
  },
  {
   "cell_type": "code",
   "execution_count": 0,
   "metadata": {
    "application/vnd.databricks.v1+cell": {
     "cellMetadata": {
      "byteLimit": 2048000,
      "rowLimit": 10000
     },
     "inputWidgets": {},
     "nuid": "c8113269-0a00-4472-b5b8-699ded95f96e",
     "showTitle": false,
     "title": ""
    }
   },
   "outputs": [],
   "source": [
    "spark.conf.set(\"fs.azure.account.key.dhyaneshcapadls.dfs.core.windows.net\",\n",
    "               \"CSaenZLRbE43FtNHV8byUEXN7vAXyxxCnJLz/X1yYHieOigV2LbU64CF1NVWg00LI4xC5x7KS/wh+AStnRMOTg==\")"
   ]
  },
  {
   "cell_type": "code",
   "execution_count": 0,
   "metadata": {
    "application/vnd.databricks.v1+cell": {
     "cellMetadata": {
      "byteLimit": 2048000,
      "rowLimit": 10000
     },
     "inputWidgets": {},
     "nuid": "32a5e4c1-cfd5-4c4f-9bdb-4da799b63f44",
     "showTitle": false,
     "title": ""
    }
   },
   "outputs": [
    {
     "output_type": "execute_result",
     "data": {
      "text/plain": [
       "[FileInfo(path='abfss://bronze@dhyaneshcapadls.dfs.core.windows.net/rankData_bronze.csv', name='rankData_bronze.csv', size=3182, modificationTime=1697045555000)]"
      ]
     },
     "execution_count": 74,
     "metadata": {},
     "output_type": "execute_result"
    }
   ],
   "source": [
    "# List files in the 'bronze' container of Azure Data Lake Storage\n",
    "dbutils.fs.ls(\"abfss://bronze@dhyaneshcapadls.dfs.core.windows.net/\")"
   ]
  },
  {
   "cell_type": "code",
   "execution_count": 0,
   "metadata": {
    "application/vnd.databricks.v1+cell": {
     "cellMetadata": {},
     "inputWidgets": {},
     "nuid": "5b11ef78-064f-4632-b90e-890f63106b08",
     "showTitle": false,
     "title": ""
    }
   },
   "outputs": [],
   "source": [
    "# Step 1: Define the schema for your dataset\n",
    "my_schema = StructType([\n",
    "    StructField(\"retailer\", StringType(), True),\n",
    "    StructField(\"retailer_product_id\", StringType(), True),\n",
    "    StructField(\"retailer_group_id\", StringType(), True),\n",
    "    StructField(\"retailer_product_name\", StringType(), True),\n",
    "    StructField(\"net_quantity\", StringType(), True),\n",
    "    StructField(\"price\", DoubleType(), True),\n",
    "    StructField(\"price_per_unit\", DoubleType(), True),\n",
    "    StructField(\"sponsored\", StringType(), False),  \n",
    "    StructField(\"promotion_text\", StringType(), True),\n",
    "    StructField(\"parsed_price\", IntegerType(), True),\n",
    "    StructField(\"promotion_type\", StringType(), True),\n",
    "    StructField(\"search_term\", StringType(), True),\n",
    "    StructField(\"rank\", IntegerType(), True),\n",
    "    StructField(\"country\", StringType(), True),\n",
    "    StructField(\"gathered_timestamp\", TimestampType(), True),\n",
    "    StructField(\"insert_timestamp\", TimestampType(), True),\n",
    "])\n"
   ]
  },
  {
   "cell_type": "code",
   "execution_count": 0,
   "metadata": {
    "application/vnd.databricks.v1+cell": {
     "cellMetadata": {
      "byteLimit": 2048000,
      "rowLimit": 10000
     },
     "inputWidgets": {},
     "nuid": "824d0307-c42a-4be3-a4be-72110d265e68",
     "showTitle": false,
     "title": ""
    }
   },
   "outputs": [
    {
     "output_type": "stream",
     "name": "stdout",
     "output_type": "stream",
     "text": [
      "+---------+-------------------+-----------------+---------------------+------------+-----+--------------+---------+--------------+------------+--------------+-----------+----+-------+--------------------+--------------------+\n| retailer|retailer_product_id|retailer_group_id|retailer_product_name|net_quantity|price|price_per_unit|sponsored|promotion_text|parsed_price|promotion_type|search_term|rank|country|  gathered_timestamp|    insert_timestamp|\n+---------+-------------------+-----------------+---------------------+------------+-----+--------------+---------+--------------+------------+--------------+-----------+----+-------+--------------------+--------------------+\n|Amazon-In|             ASIN01|       ASINGROUP1|  Chocolate box of 10|        5 kg|  100|          null|     null|          null|         100|          null|  chocolate|  19|  India|2021-05-12 00:07:...|2021-05-12 11:53:...|\n|Amazon-In|             ASIN02|       ASINGROUP2|  Chocolate box of 11|        6 kg|  150|          null|     null|          null|         150|          null|  chocolate|  26|  India|2021-05-12 00:20:...|2021-05-12 11:53:...|\n|Amazon-In|             ASIN03|       ASINGROUP3|  Chocolate box of 12|        7 kg|  170|          null|        1|      was $200|         170|     PRICE_CUT|  chocolate|  30|  India|2021-05-12 00:20:...|2021-05-12 11:53:...|\n|Amazon-In|             ASIN04|       ASINGROUP4|  Chocolate box of 13|        8 kg|  150|          null|        1|      was $201|         150|     PRICE_CUT|  chocolate|  10|  India|2021-05-12 00:07:...|2021-05-12 11:53:...|\n|Amazon-In|             ASIN05|       ASINGROUP5|  Chocolate box of 14|        9 kg|  110|          null|        1|      was $202|         110|     PRICE_CUT|  chocolate|   5|  India|2021-05-12 00:20:...|2021-05-12 11:53:...|\n+---------+-------------------+-----------------+---------------------+------------+-----+--------------+---------+--------------+------------+--------------+-----------+----+-------+--------------------+--------------------+\nonly showing top 5 rows\n\n"
     ]
    }
   ],
   "source": [
    "# Step 2: Read the data\n",
    "data = spark.read.format('delta').schema(my_schema).csv(\"abfss://bronze@dhyaneshcapadls.dfs.core.windows.net/rankData_bronze.csv\", header=True)\n",
    "\n",
    "# Check the first few records\n",
    "data.show(5)"
   ]
  },
  {
   "cell_type": "code",
   "execution_count": 0,
   "metadata": {
    "application/vnd.databricks.v1+cell": {
     "cellMetadata": {
      "byteLimit": 2048000,
      "rowLimit": 10000
     },
     "inputWidgets": {},
     "nuid": "343a3e34-0f31-4fbb-9305-d9d02cc9e350",
     "showTitle": false,
     "title": ""
    }
   },
   "outputs": [
    {
     "output_type": "display_data",
     "data": {
      "text/html": [
       "<style scoped>\n",
       "  .table-result-container {\n",
       "    max-height: 300px;\n",
       "    overflow: auto;\n",
       "  }\n",
       "  table, th, td {\n",
       "    border: 1px solid black;\n",
       "    border-collapse: collapse;\n",
       "  }\n",
       "  th, td {\n",
       "    padding: 5px;\n",
       "  }\n",
       "  th {\n",
       "    text-align: left;\n",
       "  }\n",
       "</style><div class='table-result-container'><table class='table-result'><thead style='background-color: white'><tr><th>retailer</th><th>retailer_product_id</th><th>retailer_group_id</th><th>retailer_product_name</th><th>net_quantity</th><th>price</th><th>price_per_unit</th><th>sponsored</th><th>promotion_text</th><th>parsed_price</th><th>promotion_type</th><th>search_term</th><th>rank</th><th>country</th><th>gathered_timestamp</th><th>insert_timestamp</th></tr></thead><tbody><tr><td>Amazon-In</td><td>ASIN01</td><td>ASINGROUP1</td><td>Chocolate box of 10</td><td>5 kg</td><td>100</td><td>null</td><td>null</td><td>null</td><td>100</td><td>null</td><td>chocolate</td><td>19</td><td>India</td><td>2021-05-12T00:07:04.072+0000</td><td>2021-05-12T11:53:32.697+0000</td></tr><tr><td>Amazon-In</td><td>ASIN02</td><td>ASINGROUP2</td><td>Chocolate box of 11</td><td>6 kg</td><td>150</td><td>null</td><td>null</td><td>null</td><td>150</td><td>null</td><td>chocolate</td><td>26</td><td>India</td><td>2021-05-12T00:20:29.276+0000</td><td>2021-05-12T11:53:33.191+0000</td></tr><tr><td>Amazon-In</td><td>ASIN03</td><td>ASINGROUP3</td><td>Chocolate box of 12</td><td>7 kg</td><td>170</td><td>null</td><td>1</td><td>was $200</td><td>170</td><td>PRICE_CUT</td><td>chocolate</td><td>30</td><td>India</td><td>2021-05-12T00:20:47.941+0000</td><td>2021-05-12T11:53:33.189+0000</td></tr><tr><td>Amazon-In</td><td>ASIN04</td><td>ASINGROUP4</td><td>Chocolate box of 13</td><td>8 kg</td><td>150</td><td>null</td><td>1</td><td>was $201</td><td>150</td><td>PRICE_CUT</td><td>chocolate</td><td>10</td><td>India</td><td>2021-05-12T00:07:11.911+0000</td><td>2021-05-12T11:53:32.321+0000</td></tr><tr><td>Amazon-In</td><td>ASIN05</td><td>ASINGROUP5</td><td>Chocolate box of 14</td><td>9 kg</td><td>110</td><td>null</td><td>1</td><td>was $202</td><td>110</td><td>PRICE_CUT</td><td>chocolate</td><td>5</td><td>India</td><td>2021-05-12T00:20:34.657+0000</td><td>2021-05-12T11:53:33.188+0000</td></tr><tr><td>Amazon-In</td><td>ASIN06</td><td>ASINGROUP6</td><td>Chocolate box of 15</td><td>10 kg</td><td>150</td><td>null</td><td>1</td><td>was $203</td><td>150</td><td>PRICE_CUT</td><td>chocolate</td><td>32</td><td>India</td><td>2021-05-12T00:07:02.337+0000</td><td>2021-05-12T11:53:32.321+0000</td></tr><tr><td>Amazon-In</td><td>ASIN07</td><td>ASINGROUP7</td><td>Chocolate box of 16</td><td>11 kg</td><td>200</td><td>null</td><td>null</td><td>null</td><td>200</td><td>null</td><td>chocolate</td><td>45</td><td>India</td><td>2021-05-12T00:06:12.979+0000</td><td>2021-05-12T11:53:32.699+0000</td></tr><tr><td>Amazon-In</td><td>ASIN08</td><td>ASINGROUP8</td><td>Chocolate box of 17</td><td>12 kg</td><td>250</td><td>null</td><td>1</td><td>was $300</td><td>250</td><td>PRICE_CUT</td><td>chocolate</td><td>2</td><td>India</td><td>2021-05-12T00:20:53.302+0000</td><td>2021-05-12T11:53:32.692+0000</td></tr><tr><td>Amazon-In</td><td>ASIN09</td><td>ASINGROUP9</td><td>Chocolate box of 18</td><td>13 kg</td><td>300</td><td>null</td><td>null</td><td>null</td><td>300</td><td>null</td><td>chocolate</td><td>20</td><td>India</td><td>2021-05-12T00:07:04.072+0000</td><td>2021-05-12T11:53:32.697+0000</td></tr><tr><td>Amazon-us</td><td>ASIN101</td><td>ASINGROUP101</td><td>gums pack of 100</td><td>50 g</td><td>10</td><td>null</td><td>null</td><td>null</td><td>10</td><td>null</td><td>gum</td><td>19</td><td>USA</td><td>2021-05-12T00:07:04.072+0000</td><td>2021-05-12T11:53:32.697+0000</td></tr><tr><td>Amazon-us</td><td>ASIN102</td><td>ASINGROUP102</td><td>gums pack of 150</td><td>90 g</td><td>12</td><td>null</td><td>null</td><td>null</td><td>12</td><td>null</td><td>gum</td><td>26</td><td>USA</td><td>2021-05-12T00:20:29.276+0000</td><td>2021-05-12T11:53:33.191+0000</td></tr><tr><td>Amazon-us</td><td>ASIN103</td><td>ASINGROUP103</td><td>gums pack of 200</td><td>130 g</td><td>14</td><td>null</td><td>1</td><td>was $20</td><td>14</td><td>PRICE_CUT</td><td>gum</td><td>30</td><td>USA</td><td>2021-05-12T00:20:47.941+0000</td><td>2021-05-12T11:53:33.189+0000</td></tr><tr><td>Amazon-us</td><td>ASIN104</td><td>ASINGROUP104</td><td>gums pack of 250</td><td>170 g</td><td>16</td><td>null</td><td>1</td><td>was $20</td><td>16</td><td>PRICE_CUT</td><td>gum</td><td>10</td><td>USA</td><td>2021-05-12T00:07:11.911+0000</td><td>2021-05-12T11:53:32.321+0000</td></tr><tr><td>Amazon-us</td><td>ASIN105</td><td>ASINGROUP105</td><td>gums pack of 300</td><td>210 g</td><td>18</td><td>null</td><td>1</td><td>was $20</td><td>18</td><td>PRICE_CUT</td><td>gum</td><td>5</td><td>USA</td><td>2021-05-12T00:20:34.657+0000</td><td>2021-05-12T11:53:33.188+0000</td></tr><tr><td>Amazon-us</td><td>ASIN106</td><td>ASINGROUP106</td><td>gums pack of 350</td><td>250 g</td><td>20</td><td>null</td><td>1</td><td>was $20</td><td>20</td><td>PRICE_CUT</td><td>gum</td><td>32</td><td>USA</td><td>2021-05-12T00:07:02.337+0000</td><td>2021-05-12T11:53:32.321+0000</td></tr><tr><td>Amazon-us</td><td>ASIN107</td><td>ASINGROUP107</td><td>gums pack of 400</td><td>290 g</td><td>22</td><td>null</td><td>null</td><td>null</td><td>22</td><td>null</td><td>gum</td><td>45</td><td>USA</td><td>2021-05-12T00:06:12.979+0000</td><td>2021-05-12T11:53:32.699+0000</td></tr><tr><td>Amazon-us</td><td>ASIN108</td><td>ASINGROUP108</td><td>gums pack of 450</td><td>310 g</td><td>24</td><td>null</td><td>1</td><td>was $30</td><td>24</td><td>PRICE_CUT</td><td>gum</td><td>2</td><td>USA</td><td>2021-05-12T00:20:53.302+0000</td><td>2021-05-12T11:53:32.692+0000</td></tr><tr><td>Amazon-us</td><td>ASIN109</td><td>ASINGROUP109</td><td>gums pack of 500</td><td>350 g</td><td>26</td><td>null</td><td>null</td><td>null</td><td>26</td><td>null</td><td>gum</td><td>20</td><td>USA</td><td>2021-05-12T00:07:04.072+0000</td><td>2021-05-12T11:53:32.697+0000</td></tr><tr><td>Amazon-us</td><td>ASIN110</td><td>ASINGROUP110</td><td>gums pack of 550</td><td>390 g</td><td>28</td><td>null</td><td>null</td><td>null</td><td>28</td><td>null</td><td>gum</td><td>10</td><td>USA</td><td>2021-05-12T00:07:04.072+0000</td><td>2021-05-12T11:53:32.697+0000</td></tr></tbody></table></div>"
      ]
     },
     "metadata": {
      "application/vnd.databricks.v1+output": {
       "addedWidgets": {},
       "aggData": [],
       "aggError": "",
       "aggOverflow": false,
       "aggSchema": [],
       "aggSeriesLimitReached": false,
       "aggType": "",
       "arguments": {},
       "columnCustomDisplayInfos": {},
       "data": [
        [
         "Amazon-In",
         "ASIN01",
         "ASINGROUP1",
         "Chocolate box of 10",
         "5 kg",
         100,
         "null",
         "null",
         "null",
         100,
         "null",
         "chocolate",
         19,
         "India",
         "2021-05-12T00:07:04.072+0000",
         "2021-05-12T11:53:32.697+0000"
        ],
        [
         "Amazon-In",
         "ASIN02",
         "ASINGROUP2",
         "Chocolate box of 11",
         "6 kg",
         150,
         "null",
         "null",
         "null",
         150,
         "null",
         "chocolate",
         26,
         "India",
         "2021-05-12T00:20:29.276+0000",
         "2021-05-12T11:53:33.191+0000"
        ],
        [
         "Amazon-In",
         "ASIN03",
         "ASINGROUP3",
         "Chocolate box of 12",
         "7 kg",
         170,
         "null",
         "1",
         "was $200",
         170,
         "PRICE_CUT",
         "chocolate",
         30,
         "India",
         "2021-05-12T00:20:47.941+0000",
         "2021-05-12T11:53:33.189+0000"
        ],
        [
         "Amazon-In",
         "ASIN04",
         "ASINGROUP4",
         "Chocolate box of 13",
         "8 kg",
         150,
         "null",
         "1",
         "was $201",
         150,
         "PRICE_CUT",
         "chocolate",
         10,
         "India",
         "2021-05-12T00:07:11.911+0000",
         "2021-05-12T11:53:32.321+0000"
        ],
        [
         "Amazon-In",
         "ASIN05",
         "ASINGROUP5",
         "Chocolate box of 14",
         "9 kg",
         110,
         "null",
         "1",
         "was $202",
         110,
         "PRICE_CUT",
         "chocolate",
         5,
         "India",
         "2021-05-12T00:20:34.657+0000",
         "2021-05-12T11:53:33.188+0000"
        ],
        [
         "Amazon-In",
         "ASIN06",
         "ASINGROUP6",
         "Chocolate box of 15",
         "10 kg",
         150,
         "null",
         "1",
         "was $203",
         150,
         "PRICE_CUT",
         "chocolate",
         32,
         "India",
         "2021-05-12T00:07:02.337+0000",
         "2021-05-12T11:53:32.321+0000"
        ],
        [
         "Amazon-In",
         "ASIN07",
         "ASINGROUP7",
         "Chocolate box of 16",
         "11 kg",
         200,
         "null",
         "null",
         "null",
         200,
         "null",
         "chocolate",
         45,
         "India",
         "2021-05-12T00:06:12.979+0000",
         "2021-05-12T11:53:32.699+0000"
        ],
        [
         "Amazon-In",
         "ASIN08",
         "ASINGROUP8",
         "Chocolate box of 17",
         "12 kg",
         250,
         "null",
         "1",
         "was $300",
         250,
         "PRICE_CUT",
         "chocolate",
         2,
         "India",
         "2021-05-12T00:20:53.302+0000",
         "2021-05-12T11:53:32.692+0000"
        ],
        [
         "Amazon-In",
         "ASIN09",
         "ASINGROUP9",
         "Chocolate box of 18",
         "13 kg",
         300,
         "null",
         "null",
         "null",
         300,
         "null",
         "chocolate",
         20,
         "India",
         "2021-05-12T00:07:04.072+0000",
         "2021-05-12T11:53:32.697+0000"
        ],
        [
         "Amazon-us",
         "ASIN101",
         "ASINGROUP101",
         "gums pack of 100",
         "50 g",
         10,
         "null",
         "null",
         "null",
         10,
         "null",
         "gum",
         19,
         "USA",
         "2021-05-12T00:07:04.072+0000",
         "2021-05-12T11:53:32.697+0000"
        ],
        [
         "Amazon-us",
         "ASIN102",
         "ASINGROUP102",
         "gums pack of 150",
         "90 g",
         12,
         "null",
         "null",
         "null",
         12,
         "null",
         "gum",
         26,
         "USA",
         "2021-05-12T00:20:29.276+0000",
         "2021-05-12T11:53:33.191+0000"
        ],
        [
         "Amazon-us",
         "ASIN103",
         "ASINGROUP103",
         "gums pack of 200",
         "130 g",
         14,
         "null",
         "1",
         "was $20",
         14,
         "PRICE_CUT",
         "gum",
         30,
         "USA",
         "2021-05-12T00:20:47.941+0000",
         "2021-05-12T11:53:33.189+0000"
        ],
        [
         "Amazon-us",
         "ASIN104",
         "ASINGROUP104",
         "gums pack of 250",
         "170 g",
         16,
         "null",
         "1",
         "was $20",
         16,
         "PRICE_CUT",
         "gum",
         10,
         "USA",
         "2021-05-12T00:07:11.911+0000",
         "2021-05-12T11:53:32.321+0000"
        ],
        [
         "Amazon-us",
         "ASIN105",
         "ASINGROUP105",
         "gums pack of 300",
         "210 g",
         18,
         "null",
         "1",
         "was $20",
         18,
         "PRICE_CUT",
         "gum",
         5,
         "USA",
         "2021-05-12T00:20:34.657+0000",
         "2021-05-12T11:53:33.188+0000"
        ],
        [
         "Amazon-us",
         "ASIN106",
         "ASINGROUP106",
         "gums pack of 350",
         "250 g",
         20,
         "null",
         "1",
         "was $20",
         20,
         "PRICE_CUT",
         "gum",
         32,
         "USA",
         "2021-05-12T00:07:02.337+0000",
         "2021-05-12T11:53:32.321+0000"
        ],
        [
         "Amazon-us",
         "ASIN107",
         "ASINGROUP107",
         "gums pack of 400",
         "290 g",
         22,
         "null",
         "null",
         "null",
         22,
         "null",
         "gum",
         45,
         "USA",
         "2021-05-12T00:06:12.979+0000",
         "2021-05-12T11:53:32.699+0000"
        ],
        [
         "Amazon-us",
         "ASIN108",
         "ASINGROUP108",
         "gums pack of 450",
         "310 g",
         24,
         "null",
         "1",
         "was $30",
         24,
         "PRICE_CUT",
         "gum",
         2,
         "USA",
         "2021-05-12T00:20:53.302+0000",
         "2021-05-12T11:53:32.692+0000"
        ],
        [
         "Amazon-us",
         "ASIN109",
         "ASINGROUP109",
         "gums pack of 500",
         "350 g",
         26,
         "null",
         "null",
         "null",
         26,
         "null",
         "gum",
         20,
         "USA",
         "2021-05-12T00:07:04.072+0000",
         "2021-05-12T11:53:32.697+0000"
        ],
        [
         "Amazon-us",
         "ASIN110",
         "ASINGROUP110",
         "gums pack of 550",
         "390 g",
         28,
         "null",
         "null",
         "null",
         28,
         "null",
         "gum",
         10,
         "USA",
         "2021-05-12T00:07:04.072+0000",
         "2021-05-12T11:53:32.697+0000"
        ]
       ],
       "datasetInfos": [],
       "dbfsResultPath": null,
       "isJsonSchema": true,
       "metadata": {},
       "overflow": false,
       "plotOptions": {
        "customPlotOptions": {},
        "displayType": "table",
        "pivotAggregation": null,
        "pivotColumns": null,
        "xColumns": null,
        "yColumns": null
       },
       "removedWidgets": [],
       "schema": [
        {
         "metadata": "{}",
         "name": "retailer",
         "type": "\"string\""
        },
        {
         "metadata": "{}",
         "name": "retailer_product_id",
         "type": "\"string\""
        },
        {
         "metadata": "{}",
         "name": "retailer_group_id",
         "type": "\"string\""
        },
        {
         "metadata": "{}",
         "name": "retailer_product_name",
         "type": "\"string\""
        },
        {
         "metadata": "{}",
         "name": "net_quantity",
         "type": "\"string\""
        },
        {
         "metadata": "{}",
         "name": "price",
         "type": "\"integer\""
        },
        {
         "metadata": "{}",
         "name": "price_per_unit",
         "type": "\"string\""
        },
        {
         "metadata": "{}",
         "name": "sponsored",
         "type": "\"string\""
        },
        {
         "metadata": "{}",
         "name": "promotion_text",
         "type": "\"string\""
        },
        {
         "metadata": "{}",
         "name": "parsed_price",
         "type": "\"integer\""
        },
        {
         "metadata": "{}",
         "name": "promotion_type",
         "type": "\"string\""
        },
        {
         "metadata": "{}",
         "name": "search_term",
         "type": "\"string\""
        },
        {
         "metadata": "{}",
         "name": "rank",
         "type": "\"integer\""
        },
        {
         "metadata": "{}",
         "name": "country",
         "type": "\"string\""
        },
        {
         "metadata": "{}",
         "name": "gathered_timestamp",
         "type": "\"timestamp\""
        },
        {
         "metadata": "{}",
         "name": "insert_timestamp",
         "type": "\"timestamp\""
        }
       ],
       "type": "table"
      }
     },
     "output_type": "display_data"
    }
   ],
   "source": [
    "display(data)"
   ]
  },
  {
   "cell_type": "code",
   "execution_count": 0,
   "metadata": {
    "application/vnd.databricks.v1+cell": {
     "cellMetadata": {
      "byteLimit": 2048000,
      "rowLimit": 10000
     },
     "inputWidgets": {},
     "nuid": "af61c363-9838-4d77-a9a3-6c6578a6f266",
     "showTitle": false,
     "title": ""
    }
   },
   "outputs": [
    {
     "output_type": "stream",
     "name": "stdout",
     "output_type": "stream",
     "text": [
      "root\n |-- retailer: string (nullable = true)\n |-- retailer_product_id: string (nullable = true)\n |-- retailer_group_id: string (nullable = true)\n |-- retailer_product_name: string (nullable = true)\n |-- net_quantity: string (nullable = true)\n |-- price: integer (nullable = true)\n |-- price_per_unit: string (nullable = true)\n |-- sponsored: string (nullable = true)\n |-- promotion_text: string (nullable = true)\n |-- parsed_price: integer (nullable = true)\n |-- promotion_type: string (nullable = true)\n |-- search_term: string (nullable = true)\n |-- rank: integer (nullable = true)\n |-- country: string (nullable = true)\n |-- gathered_timestamp: timestamp (nullable = true)\n |-- insert_timestamp: timestamp (nullable = true)\n\n"
     ]
    }
   ],
   "source": [
    "# Step 3: Verify the schema\n",
    "data.printSchema()"
   ]
  },
  {
   "cell_type": "code",
   "execution_count": 0,
   "metadata": {
    "application/vnd.databricks.v1+cell": {
     "cellMetadata": {
      "byteLimit": 2048000,
      "rowLimit": 10000
     },
     "inputWidgets": {},
     "nuid": "3d2c7457-ee18-43ee-a535-9da078bbf40b",
     "showTitle": false,
     "title": ""
    }
   },
   "outputs": [
    {
     "output_type": "execute_result",
     "data": {
      "text/plain": [
       "[('retailer', 'string'),\n",
       " ('retailer_product_id', 'string'),\n",
       " ('retailer_group_id', 'string'),\n",
       " ('retailer_product_name', 'string'),\n",
       " ('net_quantity', 'string'),\n",
       " ('price', 'int'),\n",
       " ('price_per_unit', 'string'),\n",
       " ('sponsored', 'string'),\n",
       " ('promotion_text', 'string'),\n",
       " ('parsed_price', 'int'),\n",
       " ('promotion_type', 'string'),\n",
       " ('search_term', 'string'),\n",
       " ('rank', 'int'),\n",
       " ('country', 'string'),\n",
       " ('gathered_timestamp', 'timestamp'),\n",
       " ('insert_timestamp', 'timestamp')]"
      ]
     },
     "execution_count": 78,
     "metadata": {},
     "output_type": "execute_result"
    }
   ],
   "source": [
    "# Step 4: Check the datatypes\n",
    "data.dtypes"
   ]
  },
  {
   "cell_type": "code",
   "execution_count": 0,
   "metadata": {
    "application/vnd.databricks.v1+cell": {
     "cellMetadata": {
      "byteLimit": 2048000,
      "rowLimit": 10000
     },
     "inputWidgets": {},
     "nuid": "b1a64c93-203f-4fb6-8d5e-91822aa0f8fc",
     "showTitle": false,
     "title": ""
    }
   },
   "outputs": [
    {
     "output_type": "execute_result",
     "data": {
      "text/plain": [
       "DataFrame[retailer: string, retailer_product_id: string, retailer_group_id: string, retailer_product_name: string, net_quantity: string, price: int, price_per_unit: string, sponsored: string, promotion_text: string, parsed_price: int, promotion_type: string, search_term: string, rank: int, country: string, gathered_timestamp: timestamp, insert_timestamp: timestamp]"
      ]
     },
     "execution_count": 79,
     "metadata": {},
     "output_type": "execute_result"
    }
   ],
   "source": [
    "# Step 5: Cache the dataframe\n",
    "data.cache()"
   ]
  },
  {
   "cell_type": "code",
   "execution_count": 0,
   "metadata": {
    "application/vnd.databricks.v1+cell": {
     "cellMetadata": {
      "byteLimit": 2048000,
      "rowLimit": 10000
     },
     "inputWidgets": {},
     "nuid": "396303fd-afb1-4bc6-bf9c-a993fed73ff1",
     "showTitle": false,
     "title": ""
    }
   },
   "outputs": [
    {
     "output_type": "stream",
     "name": "stdout",
     "output_type": "stream",
     "text": [
      "+---------+-------------------+-----------------+---------------------+------------+-----+--------------+---------+--------------+------------+--------------+-----------+----+-------+--------------------+--------------------+\n| retailer|retailer_product_id|retailer_group_id|retailer_product_name|net_quantity|price|price_per_unit|sponsored|promotion_text|parsed_price|promotion_type|search_term|rank|country|  gathered_timestamp|    insert_timestamp|\n+---------+-------------------+-----------------+---------------------+------------+-----+--------------+---------+--------------+------------+--------------+-----------+----+-------+--------------------+--------------------+\n|Amazon-In|             ASIN01|       ASINGROUP1|  Chocolate box of 10|        5 kg|  100|          null|     null|          null|         100|          null|  chocolate|  19|  India|2021-05-12 00:07:...|2021-05-12 11:53:...|\n|Amazon-In|             ASIN02|       ASINGROUP2|  Chocolate box of 11|        6 kg|  150|          null|     null|          null|         150|          null|  chocolate|  26|  India|2021-05-12 00:20:...|2021-05-12 11:53:...|\n|Amazon-In|             ASIN03|       ASINGROUP3|  Chocolate box of 12|        7 kg|  170|          null|        1|      was $200|         170|     PRICE_CUT|  chocolate|  30|  India|2021-05-12 00:20:...|2021-05-12 11:53:...|\n+---------+-------------------+-----------------+---------------------+------------+-----+--------------+---------+--------------+------------+--------------+-----------+----+-------+--------------------+--------------------+\nonly showing top 3 rows\n\n"
     ]
    }
   ],
   "source": [
    "# Step 6: Verify the first few records\n",
    "data.show(3)"
   ]
  },
  {
   "cell_type": "code",
   "execution_count": 0,
   "metadata": {
    "application/vnd.databricks.v1+cell": {
     "cellMetadata": {
      "byteLimit": 2048000,
      "rowLimit": 10000
     },
     "inputWidgets": {},
     "nuid": "a7f8da89-d63a-4f14-8988-f99abfde07e4",
     "showTitle": false,
     "title": ""
    }
   },
   "outputs": [
    {
     "output_type": "stream",
     "name": "stdout",
     "output_type": "stream",
     "text": [
      "+---------+-------------------+-----------------+---------------------+------------+-----+--------------+---------+--------------+------------+--------------+-----------+----+-------+--------------------+--------------------+\n| retailer|retailer_product_id|retailer_group_id|retailer_product_name|net_quantity|price|price_per_unit|sponsored|promotion_text|parsed_price|promotion_type|search_term|rank|country|  gathered_timestamp|    insert_timestamp|\n+---------+-------------------+-----------------+---------------------+------------+-----+--------------+---------+--------------+------------+--------------+-----------+----+-------+--------------------+--------------------+\n|Amazon-In|             ASIN06|       ASINGROUP6|  Chocolate box of 15|       10 kg|  150|          null|        1|      was $203|         150|     PRICE_CUT|  chocolate|  32|  India|2021-05-12 00:07:...|2021-05-12 11:53:...|\n|Amazon-us|            ASIN103|     ASINGROUP103|     gums pack of 200|       130 g|   14|          null|        1|       was $20|          14|     PRICE_CUT|        gum|  30|    USA|2021-05-12 00:20:...|2021-05-12 11:53:...|\n|Amazon-us|            ASIN105|     ASINGROUP105|     gums pack of 300|       210 g|   18|          null|        1|       was $20|          18|     PRICE_CUT|        gum|   5|    USA|2021-05-12 00:20:...|2021-05-12 11:53:...|\n+---------+-------------------+-----------------+---------------------+------------+-----+--------------+---------+--------------+------------+--------------+-----------+----+-------+--------------------+--------------------+\nonly showing top 3 rows\n\n"
     ]
    }
   ],
   "source": [
    "# Step 7: Clean the data by removing duplicates and null values\n",
    "data = data.dropDuplicates()\n",
    "data = data.dropna()"
   ]
  },
  {
   "cell_type": "code",
   "execution_count": 0,
   "metadata": {
    "application/vnd.databricks.v1+cell": {
     "cellMetadata": {
      "byteLimit": 2048000,
      "rowLimit": 10000
     },
     "inputWidgets": {},
     "nuid": "ad767a6a-f4b4-46d1-b4e5-d35bddc5c1f3",
     "showTitle": false,
     "title": ""
    }
   },
   "outputs": [
    {
     "output_type": "stream",
     "name": "stdout",
     "output_type": "stream",
     "text": [
      "No Missing values\n"
     ]
    }
   ],
   "source": [
    "# Check for Missing Values in dataframe\n",
    "missing_values = {}\n",
    "for col_name in data.columns:\n",
    "    missing_count = data.filter(col(col_name).isNull()).count()\n",
    "    if missing_count > 0:\n",
    "        missing_values[col_name] = missing_count\n",
    "\n",
    "# Check for and report missing values\n",
    "if not missing_values:\n",
    "    print(\"No Missing values\")\n",
    "else:\n",
    "    print(\"Missing Values:\")\n",
    "    for col_name, count in missing_values.items():\n",
    "        print(f\"Column '{col_name}': {count} missing values\")"
   ]
  },
  {
   "cell_type": "code",
   "execution_count": 0,
   "metadata": {
    "application/vnd.databricks.v1+cell": {
     "cellMetadata": {
      "byteLimit": 2048000,
      "rowLimit": 10000
     },
     "inputWidgets": {},
     "nuid": "c2e698f3-24a7-4f67-87e1-022c58b1d85e",
     "showTitle": false,
     "title": ""
    }
   },
   "outputs": [],
   "source": [
    "# Convert 'price_per_unit' column to double data type\n",
    "data = data.withColumn(\"price_per_unit\", col(\"price_per_unit\").cast(\"double\"))\n",
    "# Fill null values in 'price_per_unit' with 0\n",
    "data = data.fillna({'price_per_unit': 0})"
   ]
  },
  {
   "cell_type": "code",
   "execution_count": 0,
   "metadata": {
    "application/vnd.databricks.v1+cell": {
     "cellMetadata": {
      "byteLimit": 2048000,
      "rowLimit": 10000
     },
     "inputWidgets": {},
     "nuid": "8c78dd45-2104-49b3-aef2-9d04f072be15",
     "showTitle": false,
     "title": ""
    }
   },
   "outputs": [
    {
     "output_type": "display_data",
     "data": {
      "text/html": [
       "<style scoped>\n",
       "  .table-result-container {\n",
       "    max-height: 300px;\n",
       "    overflow: auto;\n",
       "  }\n",
       "  table, th, td {\n",
       "    border: 1px solid black;\n",
       "    border-collapse: collapse;\n",
       "  }\n",
       "  th, td {\n",
       "    padding: 5px;\n",
       "  }\n",
       "  th {\n",
       "    text-align: left;\n",
       "  }\n",
       "</style><div class='table-result-container'><table class='table-result'><thead style='background-color: white'><tr><th>retailer</th><th>retailer_product_id</th><th>retailer_group_id</th><th>retailer_product_name</th><th>net_quantity</th><th>price</th><th>price_per_unit</th><th>sponsored</th><th>promotion_text</th><th>parsed_price</th><th>promotion_type</th><th>search_term</th><th>rank</th><th>country</th><th>gathered_timestamp</th><th>insert_timestamp</th></tr></thead><tbody><tr><td>Amazon-In</td><td>ASIN06</td><td>ASINGROUP6</td><td>Chocolate box of 15</td><td>10 kg</td><td>150</td><td>0.0</td><td>1</td><td>was $203</td><td>150</td><td>PRICE_CUT</td><td>chocolate</td><td>32</td><td>India</td><td>2021-05-12T00:07:02.337+0000</td><td>2021-05-12T11:53:32.321+0000</td></tr><tr><td>Amazon-us</td><td>ASIN103</td><td>ASINGROUP103</td><td>gums pack of 200</td><td>130 g</td><td>14</td><td>0.0</td><td>1</td><td>was $20</td><td>14</td><td>PRICE_CUT</td><td>gum</td><td>30</td><td>USA</td><td>2021-05-12T00:20:47.941+0000</td><td>2021-05-12T11:53:33.189+0000</td></tr><tr><td>Amazon-us</td><td>ASIN105</td><td>ASINGROUP105</td><td>gums pack of 300</td><td>210 g</td><td>18</td><td>0.0</td><td>1</td><td>was $20</td><td>18</td><td>PRICE_CUT</td><td>gum</td><td>5</td><td>USA</td><td>2021-05-12T00:20:34.657+0000</td><td>2021-05-12T11:53:33.188+0000</td></tr><tr><td>Amazon-us</td><td>ASIN108</td><td>ASINGROUP108</td><td>gums pack of 450</td><td>310 g</td><td>24</td><td>0.0</td><td>1</td><td>was $30</td><td>24</td><td>PRICE_CUT</td><td>gum</td><td>2</td><td>USA</td><td>2021-05-12T00:20:53.302+0000</td><td>2021-05-12T11:53:32.692+0000</td></tr><tr><td>Amazon-In</td><td>ASIN08</td><td>ASINGROUP8</td><td>Chocolate box of 17</td><td>12 kg</td><td>250</td><td>0.0</td><td>1</td><td>was $300</td><td>250</td><td>PRICE_CUT</td><td>chocolate</td><td>2</td><td>India</td><td>2021-05-12T00:20:53.302+0000</td><td>2021-05-12T11:53:32.692+0000</td></tr><tr><td>Amazon-us</td><td>ASIN104</td><td>ASINGROUP104</td><td>gums pack of 250</td><td>170 g</td><td>16</td><td>0.0</td><td>1</td><td>was $20</td><td>16</td><td>PRICE_CUT</td><td>gum</td><td>10</td><td>USA</td><td>2021-05-12T00:07:11.911+0000</td><td>2021-05-12T11:53:32.321+0000</td></tr><tr><td>Amazon-us</td><td>ASIN101</td><td>ASINGROUP101</td><td>gums pack of 100</td><td>50 g</td><td>10</td><td>0.0</td><td>null</td><td>null</td><td>10</td><td>null</td><td>gum</td><td>19</td><td>USA</td><td>2021-05-12T00:07:04.072+0000</td><td>2021-05-12T11:53:32.697+0000</td></tr><tr><td>Amazon-In</td><td>ASIN01</td><td>ASINGROUP1</td><td>Chocolate box of 10</td><td>5 kg</td><td>100</td><td>0.0</td><td>null</td><td>null</td><td>100</td><td>null</td><td>chocolate</td><td>19</td><td>India</td><td>2021-05-12T00:07:04.072+0000</td><td>2021-05-12T11:53:32.697+0000</td></tr><tr><td>Amazon-In</td><td>ASIN09</td><td>ASINGROUP9</td><td>Chocolate box of 18</td><td>13 kg</td><td>300</td><td>0.0</td><td>null</td><td>null</td><td>300</td><td>null</td><td>chocolate</td><td>20</td><td>India</td><td>2021-05-12T00:07:04.072+0000</td><td>2021-05-12T11:53:32.697+0000</td></tr><tr><td>Amazon-In</td><td>ASIN03</td><td>ASINGROUP3</td><td>Chocolate box of 12</td><td>7 kg</td><td>170</td><td>0.0</td><td>1</td><td>was $200</td><td>170</td><td>PRICE_CUT</td><td>chocolate</td><td>30</td><td>India</td><td>2021-05-12T00:20:47.941+0000</td><td>2021-05-12T11:53:33.189+0000</td></tr><tr><td>Amazon-In</td><td>ASIN02</td><td>ASINGROUP2</td><td>Chocolate box of 11</td><td>6 kg</td><td>150</td><td>0.0</td><td>null</td><td>null</td><td>150</td><td>null</td><td>chocolate</td><td>26</td><td>India</td><td>2021-05-12T00:20:29.276+0000</td><td>2021-05-12T11:53:33.191+0000</td></tr><tr><td>Amazon-In</td><td>ASIN05</td><td>ASINGROUP5</td><td>Chocolate box of 14</td><td>9 kg</td><td>110</td><td>0.0</td><td>1</td><td>was $202</td><td>110</td><td>PRICE_CUT</td><td>chocolate</td><td>5</td><td>India</td><td>2021-05-12T00:20:34.657+0000</td><td>2021-05-12T11:53:33.188+0000</td></tr><tr><td>Amazon-In</td><td>ASIN07</td><td>ASINGROUP7</td><td>Chocolate box of 16</td><td>11 kg</td><td>200</td><td>0.0</td><td>null</td><td>null</td><td>200</td><td>null</td><td>chocolate</td><td>45</td><td>India</td><td>2021-05-12T00:06:12.979+0000</td><td>2021-05-12T11:53:32.699+0000</td></tr><tr><td>Amazon-In</td><td>ASIN04</td><td>ASINGROUP4</td><td>Chocolate box of 13</td><td>8 kg</td><td>150</td><td>0.0</td><td>1</td><td>was $201</td><td>150</td><td>PRICE_CUT</td><td>chocolate</td><td>10</td><td>India</td><td>2021-05-12T00:07:11.911+0000</td><td>2021-05-12T11:53:32.321+0000</td></tr><tr><td>Amazon-us</td><td>ASIN106</td><td>ASINGROUP106</td><td>gums pack of 350</td><td>250 g</td><td>20</td><td>0.0</td><td>1</td><td>was $20</td><td>20</td><td>PRICE_CUT</td><td>gum</td><td>32</td><td>USA</td><td>2021-05-12T00:07:02.337+0000</td><td>2021-05-12T11:53:32.321+0000</td></tr><tr><td>Amazon-us</td><td>ASIN110</td><td>ASINGROUP110</td><td>gums pack of 550</td><td>390 g</td><td>28</td><td>0.0</td><td>null</td><td>null</td><td>28</td><td>null</td><td>gum</td><td>10</td><td>USA</td><td>2021-05-12T00:07:04.072+0000</td><td>2021-05-12T11:53:32.697+0000</td></tr><tr><td>Amazon-us</td><td>ASIN102</td><td>ASINGROUP102</td><td>gums pack of 150</td><td>90 g</td><td>12</td><td>0.0</td><td>null</td><td>null</td><td>12</td><td>null</td><td>gum</td><td>26</td><td>USA</td><td>2021-05-12T00:20:29.276+0000</td><td>2021-05-12T11:53:33.191+0000</td></tr><tr><td>Amazon-us</td><td>ASIN109</td><td>ASINGROUP109</td><td>gums pack of 500</td><td>350 g</td><td>26</td><td>0.0</td><td>null</td><td>null</td><td>26</td><td>null</td><td>gum</td><td>20</td><td>USA</td><td>2021-05-12T00:07:04.072+0000</td><td>2021-05-12T11:53:32.697+0000</td></tr><tr><td>Amazon-us</td><td>ASIN107</td><td>ASINGROUP107</td><td>gums pack of 400</td><td>290 g</td><td>22</td><td>0.0</td><td>null</td><td>null</td><td>22</td><td>null</td><td>gum</td><td>45</td><td>USA</td><td>2021-05-12T00:06:12.979+0000</td><td>2021-05-12T11:53:32.699+0000</td></tr></tbody></table></div>"
      ]
     },
     "metadata": {
      "application/vnd.databricks.v1+output": {
       "addedWidgets": {},
       "aggData": [],
       "aggError": "",
       "aggOverflow": false,
       "aggSchema": [],
       "aggSeriesLimitReached": false,
       "aggType": "",
       "arguments": {},
       "columnCustomDisplayInfos": {},
       "data": [
        [
         "Amazon-In",
         "ASIN06",
         "ASINGROUP6",
         "Chocolate box of 15",
         "10 kg",
         150,
         0.0,
         "1",
         "was $203",
         150,
         "PRICE_CUT",
         "chocolate",
         32,
         "India",
         "2021-05-12T00:07:02.337+0000",
         "2021-05-12T11:53:32.321+0000"
        ],
        [
         "Amazon-us",
         "ASIN103",
         "ASINGROUP103",
         "gums pack of 200",
         "130 g",
         14,
         0.0,
         "1",
         "was $20",
         14,
         "PRICE_CUT",
         "gum",
         30,
         "USA",
         "2021-05-12T00:20:47.941+0000",
         "2021-05-12T11:53:33.189+0000"
        ],
        [
         "Amazon-us",
         "ASIN105",
         "ASINGROUP105",
         "gums pack of 300",
         "210 g",
         18,
         0.0,
         "1",
         "was $20",
         18,
         "PRICE_CUT",
         "gum",
         5,
         "USA",
         "2021-05-12T00:20:34.657+0000",
         "2021-05-12T11:53:33.188+0000"
        ],
        [
         "Amazon-us",
         "ASIN108",
         "ASINGROUP108",
         "gums pack of 450",
         "310 g",
         24,
         0.0,
         "1",
         "was $30",
         24,
         "PRICE_CUT",
         "gum",
         2,
         "USA",
         "2021-05-12T00:20:53.302+0000",
         "2021-05-12T11:53:32.692+0000"
        ],
        [
         "Amazon-In",
         "ASIN08",
         "ASINGROUP8",
         "Chocolate box of 17",
         "12 kg",
         250,
         0.0,
         "1",
         "was $300",
         250,
         "PRICE_CUT",
         "chocolate",
         2,
         "India",
         "2021-05-12T00:20:53.302+0000",
         "2021-05-12T11:53:32.692+0000"
        ],
        [
         "Amazon-us",
         "ASIN104",
         "ASINGROUP104",
         "gums pack of 250",
         "170 g",
         16,
         0.0,
         "1",
         "was $20",
         16,
         "PRICE_CUT",
         "gum",
         10,
         "USA",
         "2021-05-12T00:07:11.911+0000",
         "2021-05-12T11:53:32.321+0000"
        ],
        [
         "Amazon-us",
         "ASIN101",
         "ASINGROUP101",
         "gums pack of 100",
         "50 g",
         10,
         0.0,
         "null",
         "null",
         10,
         "null",
         "gum",
         19,
         "USA",
         "2021-05-12T00:07:04.072+0000",
         "2021-05-12T11:53:32.697+0000"
        ],
        [
         "Amazon-In",
         "ASIN01",
         "ASINGROUP1",
         "Chocolate box of 10",
         "5 kg",
         100,
         0.0,
         "null",
         "null",
         100,
         "null",
         "chocolate",
         19,
         "India",
         "2021-05-12T00:07:04.072+0000",
         "2021-05-12T11:53:32.697+0000"
        ],
        [
         "Amazon-In",
         "ASIN09",
         "ASINGROUP9",
         "Chocolate box of 18",
         "13 kg",
         300,
         0.0,
         "null",
         "null",
         300,
         "null",
         "chocolate",
         20,
         "India",
         "2021-05-12T00:07:04.072+0000",
         "2021-05-12T11:53:32.697+0000"
        ],
        [
         "Amazon-In",
         "ASIN03",
         "ASINGROUP3",
         "Chocolate box of 12",
         "7 kg",
         170,
         0.0,
         "1",
         "was $200",
         170,
         "PRICE_CUT",
         "chocolate",
         30,
         "India",
         "2021-05-12T00:20:47.941+0000",
         "2021-05-12T11:53:33.189+0000"
        ],
        [
         "Amazon-In",
         "ASIN02",
         "ASINGROUP2",
         "Chocolate box of 11",
         "6 kg",
         150,
         0.0,
         "null",
         "null",
         150,
         "null",
         "chocolate",
         26,
         "India",
         "2021-05-12T00:20:29.276+0000",
         "2021-05-12T11:53:33.191+0000"
        ],
        [
         "Amazon-In",
         "ASIN05",
         "ASINGROUP5",
         "Chocolate box of 14",
         "9 kg",
         110,
         0.0,
         "1",
         "was $202",
         110,
         "PRICE_CUT",
         "chocolate",
         5,
         "India",
         "2021-05-12T00:20:34.657+0000",
         "2021-05-12T11:53:33.188+0000"
        ],
        [
         "Amazon-In",
         "ASIN07",
         "ASINGROUP7",
         "Chocolate box of 16",
         "11 kg",
         200,
         0.0,
         "null",
         "null",
         200,
         "null",
         "chocolate",
         45,
         "India",
         "2021-05-12T00:06:12.979+0000",
         "2021-05-12T11:53:32.699+0000"
        ],
        [
         "Amazon-In",
         "ASIN04",
         "ASINGROUP4",
         "Chocolate box of 13",
         "8 kg",
         150,
         0.0,
         "1",
         "was $201",
         150,
         "PRICE_CUT",
         "chocolate",
         10,
         "India",
         "2021-05-12T00:07:11.911+0000",
         "2021-05-12T11:53:32.321+0000"
        ],
        [
         "Amazon-us",
         "ASIN106",
         "ASINGROUP106",
         "gums pack of 350",
         "250 g",
         20,
         0.0,
         "1",
         "was $20",
         20,
         "PRICE_CUT",
         "gum",
         32,
         "USA",
         "2021-05-12T00:07:02.337+0000",
         "2021-05-12T11:53:32.321+0000"
        ],
        [
         "Amazon-us",
         "ASIN110",
         "ASINGROUP110",
         "gums pack of 550",
         "390 g",
         28,
         0.0,
         "null",
         "null",
         28,
         "null",
         "gum",
         10,
         "USA",
         "2021-05-12T00:07:04.072+0000",
         "2021-05-12T11:53:32.697+0000"
        ],
        [
         "Amazon-us",
         "ASIN102",
         "ASINGROUP102",
         "gums pack of 150",
         "90 g",
         12,
         0.0,
         "null",
         "null",
         12,
         "null",
         "gum",
         26,
         "USA",
         "2021-05-12T00:20:29.276+0000",
         "2021-05-12T11:53:33.191+0000"
        ],
        [
         "Amazon-us",
         "ASIN109",
         "ASINGROUP109",
         "gums pack of 500",
         "350 g",
         26,
         0.0,
         "null",
         "null",
         26,
         "null",
         "gum",
         20,
         "USA",
         "2021-05-12T00:07:04.072+0000",
         "2021-05-12T11:53:32.697+0000"
        ],
        [
         "Amazon-us",
         "ASIN107",
         "ASINGROUP107",
         "gums pack of 400",
         "290 g",
         22,
         0.0,
         "null",
         "null",
         22,
         "null",
         "gum",
         45,
         "USA",
         "2021-05-12T00:06:12.979+0000",
         "2021-05-12T11:53:32.699+0000"
        ]
       ],
       "datasetInfos": [],
       "dbfsResultPath": null,
       "isJsonSchema": true,
       "metadata": {},
       "overflow": false,
       "plotOptions": {
        "customPlotOptions": {},
        "displayType": "table",
        "pivotAggregation": null,
        "pivotColumns": null,
        "xColumns": null,
        "yColumns": null
       },
       "removedWidgets": [],
       "schema": [
        {
         "metadata": "{}",
         "name": "retailer",
         "type": "\"string\""
        },
        {
         "metadata": "{}",
         "name": "retailer_product_id",
         "type": "\"string\""
        },
        {
         "metadata": "{}",
         "name": "retailer_group_id",
         "type": "\"string\""
        },
        {
         "metadata": "{}",
         "name": "retailer_product_name",
         "type": "\"string\""
        },
        {
         "metadata": "{}",
         "name": "net_quantity",
         "type": "\"string\""
        },
        {
         "metadata": "{}",
         "name": "price",
         "type": "\"integer\""
        },
        {
         "metadata": "{}",
         "name": "price_per_unit",
         "type": "\"double\""
        },
        {
         "metadata": "{}",
         "name": "sponsored",
         "type": "\"string\""
        },
        {
         "metadata": "{}",
         "name": "promotion_text",
         "type": "\"string\""
        },
        {
         "metadata": "{}",
         "name": "parsed_price",
         "type": "\"integer\""
        },
        {
         "metadata": "{}",
         "name": "promotion_type",
         "type": "\"string\""
        },
        {
         "metadata": "{}",
         "name": "search_term",
         "type": "\"string\""
        },
        {
         "metadata": "{}",
         "name": "rank",
         "type": "\"integer\""
        },
        {
         "metadata": "{}",
         "name": "country",
         "type": "\"string\""
        },
        {
         "metadata": "{}",
         "name": "gathered_timestamp",
         "type": "\"timestamp\""
        },
        {
         "metadata": "{}",
         "name": "insert_timestamp",
         "type": "\"timestamp\""
        }
       ],
       "type": "table"
      }
     },
     "output_type": "display_data"
    }
   ],
   "source": [
    "display(data)"
   ]
  },
  {
   "cell_type": "code",
   "execution_count": 0,
   "metadata": {
    "application/vnd.databricks.v1+cell": {
     "cellMetadata": {
      "byteLimit": 2048000,
      "rowLimit": 10000
     },
     "inputWidgets": {},
     "nuid": "7fec3791-493a-4b00-8497-f43f0588b130",
     "showTitle": false,
     "title": ""
    }
   },
   "outputs": [],
   "source": [
    "# Convert \"sponsored\" column values to boolean\n",
    "data = data.withColumn(\"sponsored\", when(col(\"sponsored\") == \"1\", True).otherwise(False))"
   ]
  },
  {
   "cell_type": "code",
   "execution_count": 0,
   "metadata": {
    "application/vnd.databricks.v1+cell": {
     "cellMetadata": {
      "byteLimit": 2048000,
      "rowLimit": 10000
     },
     "inputWidgets": {},
     "nuid": "58311dfe-1c64-46d3-8f31-9bc16cc00015",
     "showTitle": false,
     "title": ""
    }
   },
   "outputs": [
    {
     "output_type": "display_data",
     "data": {
      "text/html": [
       "<style scoped>\n",
       "  .table-result-container {\n",
       "    max-height: 300px;\n",
       "    overflow: auto;\n",
       "  }\n",
       "  table, th, td {\n",
       "    border: 1px solid black;\n",
       "    border-collapse: collapse;\n",
       "  }\n",
       "  th, td {\n",
       "    padding: 5px;\n",
       "  }\n",
       "  th {\n",
       "    text-align: left;\n",
       "  }\n",
       "</style><div class='table-result-container'><table class='table-result'><thead style='background-color: white'><tr><th>retailer</th><th>retailer_product_id</th><th>retailer_group_id</th><th>retailer_product_name</th><th>net_quantity</th><th>price</th><th>price_per_unit</th><th>sponsored</th><th>promotion_text</th><th>parsed_price</th><th>promotion_type</th><th>search_term</th><th>rank</th><th>country</th><th>gathered_timestamp</th><th>insert_timestamp</th></tr></thead><tbody><tr><td>Amazon-In</td><td>ASIN06</td><td>ASINGROUP6</td><td>Chocolate box of 15</td><td>10 kg</td><td>150</td><td>0.0</td><td>true</td><td>was $203</td><td>150</td><td>PRICE_CUT</td><td>chocolate</td><td>32</td><td>India</td><td>2021-05-12T00:07:02.337+0000</td><td>2021-05-12T11:53:32.321+0000</td></tr><tr><td>Amazon-us</td><td>ASIN103</td><td>ASINGROUP103</td><td>gums pack of 200</td><td>130 g</td><td>14</td><td>0.0</td><td>true</td><td>was $20</td><td>14</td><td>PRICE_CUT</td><td>gum</td><td>30</td><td>USA</td><td>2021-05-12T00:20:47.941+0000</td><td>2021-05-12T11:53:33.189+0000</td></tr><tr><td>Amazon-us</td><td>ASIN105</td><td>ASINGROUP105</td><td>gums pack of 300</td><td>210 g</td><td>18</td><td>0.0</td><td>true</td><td>was $20</td><td>18</td><td>PRICE_CUT</td><td>gum</td><td>5</td><td>USA</td><td>2021-05-12T00:20:34.657+0000</td><td>2021-05-12T11:53:33.188+0000</td></tr><tr><td>Amazon-us</td><td>ASIN108</td><td>ASINGROUP108</td><td>gums pack of 450</td><td>310 g</td><td>24</td><td>0.0</td><td>true</td><td>was $30</td><td>24</td><td>PRICE_CUT</td><td>gum</td><td>2</td><td>USA</td><td>2021-05-12T00:20:53.302+0000</td><td>2021-05-12T11:53:32.692+0000</td></tr><tr><td>Amazon-In</td><td>ASIN08</td><td>ASINGROUP8</td><td>Chocolate box of 17</td><td>12 kg</td><td>250</td><td>0.0</td><td>true</td><td>was $300</td><td>250</td><td>PRICE_CUT</td><td>chocolate</td><td>2</td><td>India</td><td>2021-05-12T00:20:53.302+0000</td><td>2021-05-12T11:53:32.692+0000</td></tr><tr><td>Amazon-us</td><td>ASIN104</td><td>ASINGROUP104</td><td>gums pack of 250</td><td>170 g</td><td>16</td><td>0.0</td><td>true</td><td>was $20</td><td>16</td><td>PRICE_CUT</td><td>gum</td><td>10</td><td>USA</td><td>2021-05-12T00:07:11.911+0000</td><td>2021-05-12T11:53:32.321+0000</td></tr><tr><td>Amazon-us</td><td>ASIN101</td><td>ASINGROUP101</td><td>gums pack of 100</td><td>50 g</td><td>10</td><td>0.0</td><td>false</td><td>null</td><td>10</td><td>null</td><td>gum</td><td>19</td><td>USA</td><td>2021-05-12T00:07:04.072+0000</td><td>2021-05-12T11:53:32.697+0000</td></tr><tr><td>Amazon-In</td><td>ASIN01</td><td>ASINGROUP1</td><td>Chocolate box of 10</td><td>5 kg</td><td>100</td><td>0.0</td><td>false</td><td>null</td><td>100</td><td>null</td><td>chocolate</td><td>19</td><td>India</td><td>2021-05-12T00:07:04.072+0000</td><td>2021-05-12T11:53:32.697+0000</td></tr><tr><td>Amazon-In</td><td>ASIN09</td><td>ASINGROUP9</td><td>Chocolate box of 18</td><td>13 kg</td><td>300</td><td>0.0</td><td>false</td><td>null</td><td>300</td><td>null</td><td>chocolate</td><td>20</td><td>India</td><td>2021-05-12T00:07:04.072+0000</td><td>2021-05-12T11:53:32.697+0000</td></tr><tr><td>Amazon-In</td><td>ASIN03</td><td>ASINGROUP3</td><td>Chocolate box of 12</td><td>7 kg</td><td>170</td><td>0.0</td><td>true</td><td>was $200</td><td>170</td><td>PRICE_CUT</td><td>chocolate</td><td>30</td><td>India</td><td>2021-05-12T00:20:47.941+0000</td><td>2021-05-12T11:53:33.189+0000</td></tr><tr><td>Amazon-In</td><td>ASIN02</td><td>ASINGROUP2</td><td>Chocolate box of 11</td><td>6 kg</td><td>150</td><td>0.0</td><td>false</td><td>null</td><td>150</td><td>null</td><td>chocolate</td><td>26</td><td>India</td><td>2021-05-12T00:20:29.276+0000</td><td>2021-05-12T11:53:33.191+0000</td></tr><tr><td>Amazon-In</td><td>ASIN05</td><td>ASINGROUP5</td><td>Chocolate box of 14</td><td>9 kg</td><td>110</td><td>0.0</td><td>true</td><td>was $202</td><td>110</td><td>PRICE_CUT</td><td>chocolate</td><td>5</td><td>India</td><td>2021-05-12T00:20:34.657+0000</td><td>2021-05-12T11:53:33.188+0000</td></tr><tr><td>Amazon-In</td><td>ASIN07</td><td>ASINGROUP7</td><td>Chocolate box of 16</td><td>11 kg</td><td>200</td><td>0.0</td><td>false</td><td>null</td><td>200</td><td>null</td><td>chocolate</td><td>45</td><td>India</td><td>2021-05-12T00:06:12.979+0000</td><td>2021-05-12T11:53:32.699+0000</td></tr><tr><td>Amazon-In</td><td>ASIN04</td><td>ASINGROUP4</td><td>Chocolate box of 13</td><td>8 kg</td><td>150</td><td>0.0</td><td>true</td><td>was $201</td><td>150</td><td>PRICE_CUT</td><td>chocolate</td><td>10</td><td>India</td><td>2021-05-12T00:07:11.911+0000</td><td>2021-05-12T11:53:32.321+0000</td></tr><tr><td>Amazon-us</td><td>ASIN106</td><td>ASINGROUP106</td><td>gums pack of 350</td><td>250 g</td><td>20</td><td>0.0</td><td>true</td><td>was $20</td><td>20</td><td>PRICE_CUT</td><td>gum</td><td>32</td><td>USA</td><td>2021-05-12T00:07:02.337+0000</td><td>2021-05-12T11:53:32.321+0000</td></tr><tr><td>Amazon-us</td><td>ASIN110</td><td>ASINGROUP110</td><td>gums pack of 550</td><td>390 g</td><td>28</td><td>0.0</td><td>false</td><td>null</td><td>28</td><td>null</td><td>gum</td><td>10</td><td>USA</td><td>2021-05-12T00:07:04.072+0000</td><td>2021-05-12T11:53:32.697+0000</td></tr><tr><td>Amazon-us</td><td>ASIN102</td><td>ASINGROUP102</td><td>gums pack of 150</td><td>90 g</td><td>12</td><td>0.0</td><td>false</td><td>null</td><td>12</td><td>null</td><td>gum</td><td>26</td><td>USA</td><td>2021-05-12T00:20:29.276+0000</td><td>2021-05-12T11:53:33.191+0000</td></tr><tr><td>Amazon-us</td><td>ASIN109</td><td>ASINGROUP109</td><td>gums pack of 500</td><td>350 g</td><td>26</td><td>0.0</td><td>false</td><td>null</td><td>26</td><td>null</td><td>gum</td><td>20</td><td>USA</td><td>2021-05-12T00:07:04.072+0000</td><td>2021-05-12T11:53:32.697+0000</td></tr><tr><td>Amazon-us</td><td>ASIN107</td><td>ASINGROUP107</td><td>gums pack of 400</td><td>290 g</td><td>22</td><td>0.0</td><td>false</td><td>null</td><td>22</td><td>null</td><td>gum</td><td>45</td><td>USA</td><td>2021-05-12T00:06:12.979+0000</td><td>2021-05-12T11:53:32.699+0000</td></tr></tbody></table></div>"
      ]
     },
     "metadata": {
      "application/vnd.databricks.v1+output": {
       "addedWidgets": {},
       "aggData": [],
       "aggError": "",
       "aggOverflow": false,
       "aggSchema": [],
       "aggSeriesLimitReached": false,
       "aggType": "",
       "arguments": {},
       "columnCustomDisplayInfos": {},
       "data": [
        [
         "Amazon-In",
         "ASIN06",
         "ASINGROUP6",
         "Chocolate box of 15",
         "10 kg",
         150,
         0.0,
         true,
         "was $203",
         150,
         "PRICE_CUT",
         "chocolate",
         32,
         "India",
         "2021-05-12T00:07:02.337+0000",
         "2021-05-12T11:53:32.321+0000"
        ],
        [
         "Amazon-us",
         "ASIN103",
         "ASINGROUP103",
         "gums pack of 200",
         "130 g",
         14,
         0.0,
         true,
         "was $20",
         14,
         "PRICE_CUT",
         "gum",
         30,
         "USA",
         "2021-05-12T00:20:47.941+0000",
         "2021-05-12T11:53:33.189+0000"
        ],
        [
         "Amazon-us",
         "ASIN105",
         "ASINGROUP105",
         "gums pack of 300",
         "210 g",
         18,
         0.0,
         true,
         "was $20",
         18,
         "PRICE_CUT",
         "gum",
         5,
         "USA",
         "2021-05-12T00:20:34.657+0000",
         "2021-05-12T11:53:33.188+0000"
        ],
        [
         "Amazon-us",
         "ASIN108",
         "ASINGROUP108",
         "gums pack of 450",
         "310 g",
         24,
         0.0,
         true,
         "was $30",
         24,
         "PRICE_CUT",
         "gum",
         2,
         "USA",
         "2021-05-12T00:20:53.302+0000",
         "2021-05-12T11:53:32.692+0000"
        ],
        [
         "Amazon-In",
         "ASIN08",
         "ASINGROUP8",
         "Chocolate box of 17",
         "12 kg",
         250,
         0.0,
         true,
         "was $300",
         250,
         "PRICE_CUT",
         "chocolate",
         2,
         "India",
         "2021-05-12T00:20:53.302+0000",
         "2021-05-12T11:53:32.692+0000"
        ],
        [
         "Amazon-us",
         "ASIN104",
         "ASINGROUP104",
         "gums pack of 250",
         "170 g",
         16,
         0.0,
         true,
         "was $20",
         16,
         "PRICE_CUT",
         "gum",
         10,
         "USA",
         "2021-05-12T00:07:11.911+0000",
         "2021-05-12T11:53:32.321+0000"
        ],
        [
         "Amazon-us",
         "ASIN101",
         "ASINGROUP101",
         "gums pack of 100",
         "50 g",
         10,
         0.0,
         false,
         "null",
         10,
         "null",
         "gum",
         19,
         "USA",
         "2021-05-12T00:07:04.072+0000",
         "2021-05-12T11:53:32.697+0000"
        ],
        [
         "Amazon-In",
         "ASIN01",
         "ASINGROUP1",
         "Chocolate box of 10",
         "5 kg",
         100,
         0.0,
         false,
         "null",
         100,
         "null",
         "chocolate",
         19,
         "India",
         "2021-05-12T00:07:04.072+0000",
         "2021-05-12T11:53:32.697+0000"
        ],
        [
         "Amazon-In",
         "ASIN09",
         "ASINGROUP9",
         "Chocolate box of 18",
         "13 kg",
         300,
         0.0,
         false,
         "null",
         300,
         "null",
         "chocolate",
         20,
         "India",
         "2021-05-12T00:07:04.072+0000",
         "2021-05-12T11:53:32.697+0000"
        ],
        [
         "Amazon-In",
         "ASIN03",
         "ASINGROUP3",
         "Chocolate box of 12",
         "7 kg",
         170,
         0.0,
         true,
         "was $200",
         170,
         "PRICE_CUT",
         "chocolate",
         30,
         "India",
         "2021-05-12T00:20:47.941+0000",
         "2021-05-12T11:53:33.189+0000"
        ],
        [
         "Amazon-In",
         "ASIN02",
         "ASINGROUP2",
         "Chocolate box of 11",
         "6 kg",
         150,
         0.0,
         false,
         "null",
         150,
         "null",
         "chocolate",
         26,
         "India",
         "2021-05-12T00:20:29.276+0000",
         "2021-05-12T11:53:33.191+0000"
        ],
        [
         "Amazon-In",
         "ASIN05",
         "ASINGROUP5",
         "Chocolate box of 14",
         "9 kg",
         110,
         0.0,
         true,
         "was $202",
         110,
         "PRICE_CUT",
         "chocolate",
         5,
         "India",
         "2021-05-12T00:20:34.657+0000",
         "2021-05-12T11:53:33.188+0000"
        ],
        [
         "Amazon-In",
         "ASIN07",
         "ASINGROUP7",
         "Chocolate box of 16",
         "11 kg",
         200,
         0.0,
         false,
         "null",
         200,
         "null",
         "chocolate",
         45,
         "India",
         "2021-05-12T00:06:12.979+0000",
         "2021-05-12T11:53:32.699+0000"
        ],
        [
         "Amazon-In",
         "ASIN04",
         "ASINGROUP4",
         "Chocolate box of 13",
         "8 kg",
         150,
         0.0,
         true,
         "was $201",
         150,
         "PRICE_CUT",
         "chocolate",
         10,
         "India",
         "2021-05-12T00:07:11.911+0000",
         "2021-05-12T11:53:32.321+0000"
        ],
        [
         "Amazon-us",
         "ASIN106",
         "ASINGROUP106",
         "gums pack of 350",
         "250 g",
         20,
         0.0,
         true,
         "was $20",
         20,
         "PRICE_CUT",
         "gum",
         32,
         "USA",
         "2021-05-12T00:07:02.337+0000",
         "2021-05-12T11:53:32.321+0000"
        ],
        [
         "Amazon-us",
         "ASIN110",
         "ASINGROUP110",
         "gums pack of 550",
         "390 g",
         28,
         0.0,
         false,
         "null",
         28,
         "null",
         "gum",
         10,
         "USA",
         "2021-05-12T00:07:04.072+0000",
         "2021-05-12T11:53:32.697+0000"
        ],
        [
         "Amazon-us",
         "ASIN102",
         "ASINGROUP102",
         "gums pack of 150",
         "90 g",
         12,
         0.0,
         false,
         "null",
         12,
         "null",
         "gum",
         26,
         "USA",
         "2021-05-12T00:20:29.276+0000",
         "2021-05-12T11:53:33.191+0000"
        ],
        [
         "Amazon-us",
         "ASIN109",
         "ASINGROUP109",
         "gums pack of 500",
         "350 g",
         26,
         0.0,
         false,
         "null",
         26,
         "null",
         "gum",
         20,
         "USA",
         "2021-05-12T00:07:04.072+0000",
         "2021-05-12T11:53:32.697+0000"
        ],
        [
         "Amazon-us",
         "ASIN107",
         "ASINGROUP107",
         "gums pack of 400",
         "290 g",
         22,
         0.0,
         false,
         "null",
         22,
         "null",
         "gum",
         45,
         "USA",
         "2021-05-12T00:06:12.979+0000",
         "2021-05-12T11:53:32.699+0000"
        ]
       ],
       "datasetInfos": [],
       "dbfsResultPath": null,
       "isJsonSchema": true,
       "metadata": {},
       "overflow": false,
       "plotOptions": {
        "customPlotOptions": {},
        "displayType": "table",
        "pivotAggregation": null,
        "pivotColumns": null,
        "xColumns": null,
        "yColumns": null
       },
       "removedWidgets": [],
       "schema": [
        {
         "metadata": "{}",
         "name": "retailer",
         "type": "\"string\""
        },
        {
         "metadata": "{}",
         "name": "retailer_product_id",
         "type": "\"string\""
        },
        {
         "metadata": "{}",
         "name": "retailer_group_id",
         "type": "\"string\""
        },
        {
         "metadata": "{}",
         "name": "retailer_product_name",
         "type": "\"string\""
        },
        {
         "metadata": "{}",
         "name": "net_quantity",
         "type": "\"string\""
        },
        {
         "metadata": "{}",
         "name": "price",
         "type": "\"integer\""
        },
        {
         "metadata": "{}",
         "name": "price_per_unit",
         "type": "\"double\""
        },
        {
         "metadata": "{}",
         "name": "sponsored",
         "type": "\"boolean\""
        },
        {
         "metadata": "{}",
         "name": "promotion_text",
         "type": "\"string\""
        },
        {
         "metadata": "{}",
         "name": "parsed_price",
         "type": "\"integer\""
        },
        {
         "metadata": "{}",
         "name": "promotion_type",
         "type": "\"string\""
        },
        {
         "metadata": "{}",
         "name": "search_term",
         "type": "\"string\""
        },
        {
         "metadata": "{}",
         "name": "rank",
         "type": "\"integer\""
        },
        {
         "metadata": "{}",
         "name": "country",
         "type": "\"string\""
        },
        {
         "metadata": "{}",
         "name": "gathered_timestamp",
         "type": "\"timestamp\""
        },
        {
         "metadata": "{}",
         "name": "insert_timestamp",
         "type": "\"timestamp\""
        }
       ],
       "type": "table"
      }
     },
     "output_type": "display_data"
    }
   ],
   "source": [
    "display(data)"
   ]
  },
  {
   "cell_type": "code",
   "execution_count": 0,
   "metadata": {
    "application/vnd.databricks.v1+cell": {
     "cellMetadata": {
      "byteLimit": 2048000,
      "rowLimit": 10000
     },
     "inputWidgets": {},
     "nuid": "701eb194-509a-48ac-bcae-016c35bc1df9",
     "showTitle": false,
     "title": ""
    }
   },
   "outputs": [],
   "source": [
    "# Replace null values in \"promotion_text\",\"promotion_type\" column with \"None\"\n",
    "data = data.withColumn(\"promotion_text\", when(col(\"promotion_text\")==\"null\", \"None\").otherwise(col(\"promotion_text\")))\n",
    "data = data.withColumn(\"promotion_type\", when(col(\"promotion_type\")==\"null\", \"None\").otherwise(col(\"promotion_type\")))"
   ]
  },
  {
   "cell_type": "code",
   "execution_count": 0,
   "metadata": {
    "application/vnd.databricks.v1+cell": {
     "cellMetadata": {
      "byteLimit": 2048000,
      "rowLimit": 10000
     },
     "inputWidgets": {},
     "nuid": "7b7cd53c-07f7-4890-baec-895663a7d31b",
     "showTitle": false,
     "title": ""
    }
   },
   "outputs": [
    {
     "output_type": "display_data",
     "data": {
      "text/html": [
       "<style scoped>\n",
       "  .table-result-container {\n",
       "    max-height: 300px;\n",
       "    overflow: auto;\n",
       "  }\n",
       "  table, th, td {\n",
       "    border: 1px solid black;\n",
       "    border-collapse: collapse;\n",
       "  }\n",
       "  th, td {\n",
       "    padding: 5px;\n",
       "  }\n",
       "  th {\n",
       "    text-align: left;\n",
       "  }\n",
       "</style><div class='table-result-container'><table class='table-result'><thead style='background-color: white'><tr><th>retailer</th><th>retailer_product_id</th><th>retailer_group_id</th><th>retailer_product_name</th><th>net_quantity</th><th>price</th><th>price_per_unit</th><th>sponsored</th><th>promotion_text</th><th>parsed_price</th><th>promotion_type</th><th>search_term</th><th>rank</th><th>country</th><th>gathered_timestamp</th><th>insert_timestamp</th></tr></thead><tbody><tr><td>Amazon-In</td><td>ASIN06</td><td>ASINGROUP6</td><td>Chocolate box of 15</td><td>10 kg</td><td>150</td><td>0.0</td><td>true</td><td>was $203</td><td>150</td><td>PRICE_CUT</td><td>chocolate</td><td>32</td><td>India</td><td>2021-05-12T00:07:02.337+0000</td><td>2021-05-12T11:53:32.321+0000</td></tr><tr><td>Amazon-us</td><td>ASIN103</td><td>ASINGROUP103</td><td>gums pack of 200</td><td>130 g</td><td>14</td><td>0.0</td><td>true</td><td>was $20</td><td>14</td><td>PRICE_CUT</td><td>gum</td><td>30</td><td>USA</td><td>2021-05-12T00:20:47.941+0000</td><td>2021-05-12T11:53:33.189+0000</td></tr><tr><td>Amazon-us</td><td>ASIN105</td><td>ASINGROUP105</td><td>gums pack of 300</td><td>210 g</td><td>18</td><td>0.0</td><td>true</td><td>was $20</td><td>18</td><td>PRICE_CUT</td><td>gum</td><td>5</td><td>USA</td><td>2021-05-12T00:20:34.657+0000</td><td>2021-05-12T11:53:33.188+0000</td></tr><tr><td>Amazon-us</td><td>ASIN108</td><td>ASINGROUP108</td><td>gums pack of 450</td><td>310 g</td><td>24</td><td>0.0</td><td>true</td><td>was $30</td><td>24</td><td>PRICE_CUT</td><td>gum</td><td>2</td><td>USA</td><td>2021-05-12T00:20:53.302+0000</td><td>2021-05-12T11:53:32.692+0000</td></tr><tr><td>Amazon-In</td><td>ASIN08</td><td>ASINGROUP8</td><td>Chocolate box of 17</td><td>12 kg</td><td>250</td><td>0.0</td><td>true</td><td>was $300</td><td>250</td><td>PRICE_CUT</td><td>chocolate</td><td>2</td><td>India</td><td>2021-05-12T00:20:53.302+0000</td><td>2021-05-12T11:53:32.692+0000</td></tr><tr><td>Amazon-us</td><td>ASIN104</td><td>ASINGROUP104</td><td>gums pack of 250</td><td>170 g</td><td>16</td><td>0.0</td><td>true</td><td>was $20</td><td>16</td><td>PRICE_CUT</td><td>gum</td><td>10</td><td>USA</td><td>2021-05-12T00:07:11.911+0000</td><td>2021-05-12T11:53:32.321+0000</td></tr><tr><td>Amazon-us</td><td>ASIN101</td><td>ASINGROUP101</td><td>gums pack of 100</td><td>50 g</td><td>10</td><td>0.0</td><td>false</td><td>None</td><td>10</td><td>None</td><td>gum</td><td>19</td><td>USA</td><td>2021-05-12T00:07:04.072+0000</td><td>2021-05-12T11:53:32.697+0000</td></tr><tr><td>Amazon-In</td><td>ASIN01</td><td>ASINGROUP1</td><td>Chocolate box of 10</td><td>5 kg</td><td>100</td><td>0.0</td><td>false</td><td>None</td><td>100</td><td>None</td><td>chocolate</td><td>19</td><td>India</td><td>2021-05-12T00:07:04.072+0000</td><td>2021-05-12T11:53:32.697+0000</td></tr><tr><td>Amazon-In</td><td>ASIN09</td><td>ASINGROUP9</td><td>Chocolate box of 18</td><td>13 kg</td><td>300</td><td>0.0</td><td>false</td><td>None</td><td>300</td><td>None</td><td>chocolate</td><td>20</td><td>India</td><td>2021-05-12T00:07:04.072+0000</td><td>2021-05-12T11:53:32.697+0000</td></tr><tr><td>Amazon-In</td><td>ASIN03</td><td>ASINGROUP3</td><td>Chocolate box of 12</td><td>7 kg</td><td>170</td><td>0.0</td><td>true</td><td>was $200</td><td>170</td><td>PRICE_CUT</td><td>chocolate</td><td>30</td><td>India</td><td>2021-05-12T00:20:47.941+0000</td><td>2021-05-12T11:53:33.189+0000</td></tr><tr><td>Amazon-In</td><td>ASIN02</td><td>ASINGROUP2</td><td>Chocolate box of 11</td><td>6 kg</td><td>150</td><td>0.0</td><td>false</td><td>None</td><td>150</td><td>None</td><td>chocolate</td><td>26</td><td>India</td><td>2021-05-12T00:20:29.276+0000</td><td>2021-05-12T11:53:33.191+0000</td></tr><tr><td>Amazon-In</td><td>ASIN05</td><td>ASINGROUP5</td><td>Chocolate box of 14</td><td>9 kg</td><td>110</td><td>0.0</td><td>true</td><td>was $202</td><td>110</td><td>PRICE_CUT</td><td>chocolate</td><td>5</td><td>India</td><td>2021-05-12T00:20:34.657+0000</td><td>2021-05-12T11:53:33.188+0000</td></tr><tr><td>Amazon-In</td><td>ASIN07</td><td>ASINGROUP7</td><td>Chocolate box of 16</td><td>11 kg</td><td>200</td><td>0.0</td><td>false</td><td>None</td><td>200</td><td>None</td><td>chocolate</td><td>45</td><td>India</td><td>2021-05-12T00:06:12.979+0000</td><td>2021-05-12T11:53:32.699+0000</td></tr><tr><td>Amazon-In</td><td>ASIN04</td><td>ASINGROUP4</td><td>Chocolate box of 13</td><td>8 kg</td><td>150</td><td>0.0</td><td>true</td><td>was $201</td><td>150</td><td>PRICE_CUT</td><td>chocolate</td><td>10</td><td>India</td><td>2021-05-12T00:07:11.911+0000</td><td>2021-05-12T11:53:32.321+0000</td></tr><tr><td>Amazon-us</td><td>ASIN106</td><td>ASINGROUP106</td><td>gums pack of 350</td><td>250 g</td><td>20</td><td>0.0</td><td>true</td><td>was $20</td><td>20</td><td>PRICE_CUT</td><td>gum</td><td>32</td><td>USA</td><td>2021-05-12T00:07:02.337+0000</td><td>2021-05-12T11:53:32.321+0000</td></tr><tr><td>Amazon-us</td><td>ASIN110</td><td>ASINGROUP110</td><td>gums pack of 550</td><td>390 g</td><td>28</td><td>0.0</td><td>false</td><td>None</td><td>28</td><td>None</td><td>gum</td><td>10</td><td>USA</td><td>2021-05-12T00:07:04.072+0000</td><td>2021-05-12T11:53:32.697+0000</td></tr><tr><td>Amazon-us</td><td>ASIN102</td><td>ASINGROUP102</td><td>gums pack of 150</td><td>90 g</td><td>12</td><td>0.0</td><td>false</td><td>None</td><td>12</td><td>None</td><td>gum</td><td>26</td><td>USA</td><td>2021-05-12T00:20:29.276+0000</td><td>2021-05-12T11:53:33.191+0000</td></tr><tr><td>Amazon-us</td><td>ASIN109</td><td>ASINGROUP109</td><td>gums pack of 500</td><td>350 g</td><td>26</td><td>0.0</td><td>false</td><td>None</td><td>26</td><td>None</td><td>gum</td><td>20</td><td>USA</td><td>2021-05-12T00:07:04.072+0000</td><td>2021-05-12T11:53:32.697+0000</td></tr><tr><td>Amazon-us</td><td>ASIN107</td><td>ASINGROUP107</td><td>gums pack of 400</td><td>290 g</td><td>22</td><td>0.0</td><td>false</td><td>None</td><td>22</td><td>None</td><td>gum</td><td>45</td><td>USA</td><td>2021-05-12T00:06:12.979+0000</td><td>2021-05-12T11:53:32.699+0000</td></tr></tbody></table></div>"
      ]
     },
     "metadata": {
      "application/vnd.databricks.v1+output": {
       "addedWidgets": {},
       "aggData": [],
       "aggError": "",
       "aggOverflow": false,
       "aggSchema": [],
       "aggSeriesLimitReached": false,
       "aggType": "",
       "arguments": {},
       "columnCustomDisplayInfos": {},
       "data": [
        [
         "Amazon-In",
         "ASIN06",
         "ASINGROUP6",
         "Chocolate box of 15",
         "10 kg",
         150,
         0.0,
         true,
         "was $203",
         150,
         "PRICE_CUT",
         "chocolate",
         32,
         "India",
         "2021-05-12T00:07:02.337+0000",
         "2021-05-12T11:53:32.321+0000"
        ],
        [
         "Amazon-us",
         "ASIN103",
         "ASINGROUP103",
         "gums pack of 200",
         "130 g",
         14,
         0.0,
         true,
         "was $20",
         14,
         "PRICE_CUT",
         "gum",
         30,
         "USA",
         "2021-05-12T00:20:47.941+0000",
         "2021-05-12T11:53:33.189+0000"
        ],
        [
         "Amazon-us",
         "ASIN105",
         "ASINGROUP105",
         "gums pack of 300",
         "210 g",
         18,
         0.0,
         true,
         "was $20",
         18,
         "PRICE_CUT",
         "gum",
         5,
         "USA",
         "2021-05-12T00:20:34.657+0000",
         "2021-05-12T11:53:33.188+0000"
        ],
        [
         "Amazon-us",
         "ASIN108",
         "ASINGROUP108",
         "gums pack of 450",
         "310 g",
         24,
         0.0,
         true,
         "was $30",
         24,
         "PRICE_CUT",
         "gum",
         2,
         "USA",
         "2021-05-12T00:20:53.302+0000",
         "2021-05-12T11:53:32.692+0000"
        ],
        [
         "Amazon-In",
         "ASIN08",
         "ASINGROUP8",
         "Chocolate box of 17",
         "12 kg",
         250,
         0.0,
         true,
         "was $300",
         250,
         "PRICE_CUT",
         "chocolate",
         2,
         "India",
         "2021-05-12T00:20:53.302+0000",
         "2021-05-12T11:53:32.692+0000"
        ],
        [
         "Amazon-us",
         "ASIN104",
         "ASINGROUP104",
         "gums pack of 250",
         "170 g",
         16,
         0.0,
         true,
         "was $20",
         16,
         "PRICE_CUT",
         "gum",
         10,
         "USA",
         "2021-05-12T00:07:11.911+0000",
         "2021-05-12T11:53:32.321+0000"
        ],
        [
         "Amazon-us",
         "ASIN101",
         "ASINGROUP101",
         "gums pack of 100",
         "50 g",
         10,
         0.0,
         false,
         "None",
         10,
         "None",
         "gum",
         19,
         "USA",
         "2021-05-12T00:07:04.072+0000",
         "2021-05-12T11:53:32.697+0000"
        ],
        [
         "Amazon-In",
         "ASIN01",
         "ASINGROUP1",
         "Chocolate box of 10",
         "5 kg",
         100,
         0.0,
         false,
         "None",
         100,
         "None",
         "chocolate",
         19,
         "India",
         "2021-05-12T00:07:04.072+0000",
         "2021-05-12T11:53:32.697+0000"
        ],
        [
         "Amazon-In",
         "ASIN09",
         "ASINGROUP9",
         "Chocolate box of 18",
         "13 kg",
         300,
         0.0,
         false,
         "None",
         300,
         "None",
         "chocolate",
         20,
         "India",
         "2021-05-12T00:07:04.072+0000",
         "2021-05-12T11:53:32.697+0000"
        ],
        [
         "Amazon-In",
         "ASIN03",
         "ASINGROUP3",
         "Chocolate box of 12",
         "7 kg",
         170,
         0.0,
         true,
         "was $200",
         170,
         "PRICE_CUT",
         "chocolate",
         30,
         "India",
         "2021-05-12T00:20:47.941+0000",
         "2021-05-12T11:53:33.189+0000"
        ],
        [
         "Amazon-In",
         "ASIN02",
         "ASINGROUP2",
         "Chocolate box of 11",
         "6 kg",
         150,
         0.0,
         false,
         "None",
         150,
         "None",
         "chocolate",
         26,
         "India",
         "2021-05-12T00:20:29.276+0000",
         "2021-05-12T11:53:33.191+0000"
        ],
        [
         "Amazon-In",
         "ASIN05",
         "ASINGROUP5",
         "Chocolate box of 14",
         "9 kg",
         110,
         0.0,
         true,
         "was $202",
         110,
         "PRICE_CUT",
         "chocolate",
         5,
         "India",
         "2021-05-12T00:20:34.657+0000",
         "2021-05-12T11:53:33.188+0000"
        ],
        [
         "Amazon-In",
         "ASIN07",
         "ASINGROUP7",
         "Chocolate box of 16",
         "11 kg",
         200,
         0.0,
         false,
         "None",
         200,
         "None",
         "chocolate",
         45,
         "India",
         "2021-05-12T00:06:12.979+0000",
         "2021-05-12T11:53:32.699+0000"
        ],
        [
         "Amazon-In",
         "ASIN04",
         "ASINGROUP4",
         "Chocolate box of 13",
         "8 kg",
         150,
         0.0,
         true,
         "was $201",
         150,
         "PRICE_CUT",
         "chocolate",
         10,
         "India",
         "2021-05-12T00:07:11.911+0000",
         "2021-05-12T11:53:32.321+0000"
        ],
        [
         "Amazon-us",
         "ASIN106",
         "ASINGROUP106",
         "gums pack of 350",
         "250 g",
         20,
         0.0,
         true,
         "was $20",
         20,
         "PRICE_CUT",
         "gum",
         32,
         "USA",
         "2021-05-12T00:07:02.337+0000",
         "2021-05-12T11:53:32.321+0000"
        ],
        [
         "Amazon-us",
         "ASIN110",
         "ASINGROUP110",
         "gums pack of 550",
         "390 g",
         28,
         0.0,
         false,
         "None",
         28,
         "None",
         "gum",
         10,
         "USA",
         "2021-05-12T00:07:04.072+0000",
         "2021-05-12T11:53:32.697+0000"
        ],
        [
         "Amazon-us",
         "ASIN102",
         "ASINGROUP102",
         "gums pack of 150",
         "90 g",
         12,
         0.0,
         false,
         "None",
         12,
         "None",
         "gum",
         26,
         "USA",
         "2021-05-12T00:20:29.276+0000",
         "2021-05-12T11:53:33.191+0000"
        ],
        [
         "Amazon-us",
         "ASIN109",
         "ASINGROUP109",
         "gums pack of 500",
         "350 g",
         26,
         0.0,
         false,
         "None",
         26,
         "None",
         "gum",
         20,
         "USA",
         "2021-05-12T00:07:04.072+0000",
         "2021-05-12T11:53:32.697+0000"
        ],
        [
         "Amazon-us",
         "ASIN107",
         "ASINGROUP107",
         "gums pack of 400",
         "290 g",
         22,
         0.0,
         false,
         "None",
         22,
         "None",
         "gum",
         45,
         "USA",
         "2021-05-12T00:06:12.979+0000",
         "2021-05-12T11:53:32.699+0000"
        ]
       ],
       "datasetInfos": [],
       "dbfsResultPath": null,
       "isJsonSchema": true,
       "metadata": {},
       "overflow": false,
       "plotOptions": {
        "customPlotOptions": {},
        "displayType": "table",
        "pivotAggregation": null,
        "pivotColumns": null,
        "xColumns": null,
        "yColumns": null
       },
       "removedWidgets": [],
       "schema": [
        {
         "metadata": "{}",
         "name": "retailer",
         "type": "\"string\""
        },
        {
         "metadata": "{}",
         "name": "retailer_product_id",
         "type": "\"string\""
        },
        {
         "metadata": "{}",
         "name": "retailer_group_id",
         "type": "\"string\""
        },
        {
         "metadata": "{}",
         "name": "retailer_product_name",
         "type": "\"string\""
        },
        {
         "metadata": "{}",
         "name": "net_quantity",
         "type": "\"string\""
        },
        {
         "metadata": "{}",
         "name": "price",
         "type": "\"integer\""
        },
        {
         "metadata": "{}",
         "name": "price_per_unit",
         "type": "\"double\""
        },
        {
         "metadata": "{}",
         "name": "sponsored",
         "type": "\"boolean\""
        },
        {
         "metadata": "{}",
         "name": "promotion_text",
         "type": "\"string\""
        },
        {
         "metadata": "{}",
         "name": "parsed_price",
         "type": "\"integer\""
        },
        {
         "metadata": "{}",
         "name": "promotion_type",
         "type": "\"string\""
        },
        {
         "metadata": "{}",
         "name": "search_term",
         "type": "\"string\""
        },
        {
         "metadata": "{}",
         "name": "rank",
         "type": "\"integer\""
        },
        {
         "metadata": "{}",
         "name": "country",
         "type": "\"string\""
        },
        {
         "metadata": "{}",
         "name": "gathered_timestamp",
         "type": "\"timestamp\""
        },
        {
         "metadata": "{}",
         "name": "insert_timestamp",
         "type": "\"timestamp\""
        }
       ],
       "type": "table"
      }
     },
     "output_type": "display_data"
    }
   ],
   "source": [
    "display(data)"
   ]
  },
  {
   "cell_type": "code",
   "execution_count": 0,
   "metadata": {
    "application/vnd.databricks.v1+cell": {
     "cellMetadata": {
      "byteLimit": 2048000,
      "rowLimit": 10000
     },
     "inputWidgets": {},
     "nuid": "b8a98bd5-4995-420f-809b-958ccfa18668",
     "showTitle": false,
     "title": ""
    }
   },
   "outputs": [],
   "source": [
    "# Remove dollar symbols and convert the 'price' column to double\n",
    "data = data.withColumn(\"price\", regexp_replace(col(\"price\"), \"\\\\$\", \"\").cast(\"double\"))"
   ]
  },
  {
   "cell_type": "code",
   "execution_count": 0,
   "metadata": {
    "application/vnd.databricks.v1+cell": {
     "cellMetadata": {
      "byteLimit": 2048000,
      "rowLimit": 10000
     },
     "inputWidgets": {},
     "nuid": "df88b4fd-f623-4e41-8933-74ad3df6e646",
     "showTitle": false,
     "title": ""
    }
   },
   "outputs": [],
   "source": [
    "# Extract 'net_quantity_kg' from 'net_quantity' column\n",
    "data = data.withColumn(\n",
    "    \"net_quantity_kg\",\n",
    "    when(col(\"net_quantity\").contains(\"kg\"), expr(\"substring(net_quantity, 1, length(net_quantity) - 3)\").cast(\"double\"))\n",
    "    .when(col(\"net_quantity\").contains(\"g\"), expr(\"substring(net_quantity, 1, length(net_quantity) - 2)\").cast(\"double\") / 1000)\n",
    "    .otherwise(0.0)\n",
    ")"
   ]
  },
  {
   "cell_type": "code",
   "execution_count": 0,
   "metadata": {
    "application/vnd.databricks.v1+cell": {
     "cellMetadata": {
      "byteLimit": 2048000,
      "rowLimit": 10000
     },
     "inputWidgets": {},
     "nuid": "93218230-47c9-45fb-9e4a-c15b6b101bf0",
     "showTitle": false,
     "title": ""
    }
   },
   "outputs": [],
   "source": [
    "# Calculate \"price_per_unit\" as \"price\" divided by \"net_quantity_kg\"\n",
    "data = data.withColumn(\"price_per_unit\", col(\"price\") / col(\"net_quantity_kg\"))\n",
    "data = data.withColumn(\"price_per_unit\", round(col(\"price_per_unit\"), 2))"
   ]
  },
  {
   "cell_type": "code",
   "execution_count": 0,
   "metadata": {
    "application/vnd.databricks.v1+cell": {
     "cellMetadata": {
      "byteLimit": 2048000,
      "rowLimit": 10000
     },
     "inputWidgets": {},
     "nuid": "47d5d981-5262-4d39-bc86-4ae45a04db39",
     "showTitle": false,
     "title": ""
    }
   },
   "outputs": [
    {
     "output_type": "display_data",
     "data": {
      "text/html": [
       "<style scoped>\n",
       "  .table-result-container {\n",
       "    max-height: 300px;\n",
       "    overflow: auto;\n",
       "  }\n",
       "  table, th, td {\n",
       "    border: 1px solid black;\n",
       "    border-collapse: collapse;\n",
       "  }\n",
       "  th, td {\n",
       "    padding: 5px;\n",
       "  }\n",
       "  th {\n",
       "    text-align: left;\n",
       "  }\n",
       "</style><div class='table-result-container'><table class='table-result'><thead style='background-color: white'><tr><th>retailer</th><th>retailer_product_id</th><th>retailer_group_id</th><th>retailer_product_name</th><th>net_quantity</th><th>price</th><th>price_per_unit</th><th>sponsored</th><th>promotion_text</th><th>parsed_price</th><th>promotion_type</th><th>search_term</th><th>rank</th><th>country</th><th>gathered_timestamp</th><th>insert_timestamp</th><th>net_quantity_kg</th></tr></thead><tbody><tr><td>Amazon-In</td><td>ASIN06</td><td>ASINGROUP6</td><td>Chocolate box of 15</td><td>10 kg</td><td>150.0</td><td>15.0</td><td>true</td><td>was $203</td><td>150</td><td>PRICE_CUT</td><td>chocolate</td><td>32</td><td>India</td><td>2021-05-12T00:07:02.337+0000</td><td>2021-05-12T11:53:32.321+0000</td><td>10.0</td></tr><tr><td>Amazon-us</td><td>ASIN103</td><td>ASINGROUP103</td><td>gums pack of 200</td><td>130 g</td><td>14.0</td><td>107.69</td><td>true</td><td>was $20</td><td>14</td><td>PRICE_CUT</td><td>gum</td><td>30</td><td>USA</td><td>2021-05-12T00:20:47.941+0000</td><td>2021-05-12T11:53:33.189+0000</td><td>0.13</td></tr><tr><td>Amazon-us</td><td>ASIN105</td><td>ASINGROUP105</td><td>gums pack of 300</td><td>210 g</td><td>18.0</td><td>85.71</td><td>true</td><td>was $20</td><td>18</td><td>PRICE_CUT</td><td>gum</td><td>5</td><td>USA</td><td>2021-05-12T00:20:34.657+0000</td><td>2021-05-12T11:53:33.188+0000</td><td>0.21</td></tr><tr><td>Amazon-us</td><td>ASIN108</td><td>ASINGROUP108</td><td>gums pack of 450</td><td>310 g</td><td>24.0</td><td>77.42</td><td>true</td><td>was $30</td><td>24</td><td>PRICE_CUT</td><td>gum</td><td>2</td><td>USA</td><td>2021-05-12T00:20:53.302+0000</td><td>2021-05-12T11:53:32.692+0000</td><td>0.31</td></tr><tr><td>Amazon-In</td><td>ASIN08</td><td>ASINGROUP8</td><td>Chocolate box of 17</td><td>12 kg</td><td>250.0</td><td>20.83</td><td>true</td><td>was $300</td><td>250</td><td>PRICE_CUT</td><td>chocolate</td><td>2</td><td>India</td><td>2021-05-12T00:20:53.302+0000</td><td>2021-05-12T11:53:32.692+0000</td><td>12.0</td></tr><tr><td>Amazon-us</td><td>ASIN104</td><td>ASINGROUP104</td><td>gums pack of 250</td><td>170 g</td><td>16.0</td><td>94.12</td><td>true</td><td>was $20</td><td>16</td><td>PRICE_CUT</td><td>gum</td><td>10</td><td>USA</td><td>2021-05-12T00:07:11.911+0000</td><td>2021-05-12T11:53:32.321+0000</td><td>0.17</td></tr><tr><td>Amazon-us</td><td>ASIN101</td><td>ASINGROUP101</td><td>gums pack of 100</td><td>50 g</td><td>10.0</td><td>200.0</td><td>false</td><td>None</td><td>10</td><td>None</td><td>gum</td><td>19</td><td>USA</td><td>2021-05-12T00:07:04.072+0000</td><td>2021-05-12T11:53:32.697+0000</td><td>0.05</td></tr><tr><td>Amazon-In</td><td>ASIN01</td><td>ASINGROUP1</td><td>Chocolate box of 10</td><td>5 kg</td><td>100.0</td><td>20.0</td><td>false</td><td>None</td><td>100</td><td>None</td><td>chocolate</td><td>19</td><td>India</td><td>2021-05-12T00:07:04.072+0000</td><td>2021-05-12T11:53:32.697+0000</td><td>5.0</td></tr><tr><td>Amazon-In</td><td>ASIN09</td><td>ASINGROUP9</td><td>Chocolate box of 18</td><td>13 kg</td><td>300.0</td><td>23.08</td><td>false</td><td>None</td><td>300</td><td>None</td><td>chocolate</td><td>20</td><td>India</td><td>2021-05-12T00:07:04.072+0000</td><td>2021-05-12T11:53:32.697+0000</td><td>13.0</td></tr><tr><td>Amazon-In</td><td>ASIN03</td><td>ASINGROUP3</td><td>Chocolate box of 12</td><td>7 kg</td><td>170.0</td><td>24.29</td><td>true</td><td>was $200</td><td>170</td><td>PRICE_CUT</td><td>chocolate</td><td>30</td><td>India</td><td>2021-05-12T00:20:47.941+0000</td><td>2021-05-12T11:53:33.189+0000</td><td>7.0</td></tr><tr><td>Amazon-In</td><td>ASIN02</td><td>ASINGROUP2</td><td>Chocolate box of 11</td><td>6 kg</td><td>150.0</td><td>25.0</td><td>false</td><td>None</td><td>150</td><td>None</td><td>chocolate</td><td>26</td><td>India</td><td>2021-05-12T00:20:29.276+0000</td><td>2021-05-12T11:53:33.191+0000</td><td>6.0</td></tr><tr><td>Amazon-In</td><td>ASIN05</td><td>ASINGROUP5</td><td>Chocolate box of 14</td><td>9 kg</td><td>110.0</td><td>12.22</td><td>true</td><td>was $202</td><td>110</td><td>PRICE_CUT</td><td>chocolate</td><td>5</td><td>India</td><td>2021-05-12T00:20:34.657+0000</td><td>2021-05-12T11:53:33.188+0000</td><td>9.0</td></tr><tr><td>Amazon-In</td><td>ASIN07</td><td>ASINGROUP7</td><td>Chocolate box of 16</td><td>11 kg</td><td>200.0</td><td>18.18</td><td>false</td><td>None</td><td>200</td><td>None</td><td>chocolate</td><td>45</td><td>India</td><td>2021-05-12T00:06:12.979+0000</td><td>2021-05-12T11:53:32.699+0000</td><td>11.0</td></tr><tr><td>Amazon-In</td><td>ASIN04</td><td>ASINGROUP4</td><td>Chocolate box of 13</td><td>8 kg</td><td>150.0</td><td>18.75</td><td>true</td><td>was $201</td><td>150</td><td>PRICE_CUT</td><td>chocolate</td><td>10</td><td>India</td><td>2021-05-12T00:07:11.911+0000</td><td>2021-05-12T11:53:32.321+0000</td><td>8.0</td></tr><tr><td>Amazon-us</td><td>ASIN106</td><td>ASINGROUP106</td><td>gums pack of 350</td><td>250 g</td><td>20.0</td><td>80.0</td><td>true</td><td>was $20</td><td>20</td><td>PRICE_CUT</td><td>gum</td><td>32</td><td>USA</td><td>2021-05-12T00:07:02.337+0000</td><td>2021-05-12T11:53:32.321+0000</td><td>0.25</td></tr><tr><td>Amazon-us</td><td>ASIN110</td><td>ASINGROUP110</td><td>gums pack of 550</td><td>390 g</td><td>28.0</td><td>71.79</td><td>false</td><td>None</td><td>28</td><td>None</td><td>gum</td><td>10</td><td>USA</td><td>2021-05-12T00:07:04.072+0000</td><td>2021-05-12T11:53:32.697+0000</td><td>0.39</td></tr><tr><td>Amazon-us</td><td>ASIN102</td><td>ASINGROUP102</td><td>gums pack of 150</td><td>90 g</td><td>12.0</td><td>133.33</td><td>false</td><td>None</td><td>12</td><td>None</td><td>gum</td><td>26</td><td>USA</td><td>2021-05-12T00:20:29.276+0000</td><td>2021-05-12T11:53:33.191+0000</td><td>0.09</td></tr><tr><td>Amazon-us</td><td>ASIN109</td><td>ASINGROUP109</td><td>gums pack of 500</td><td>350 g</td><td>26.0</td><td>74.29</td><td>false</td><td>None</td><td>26</td><td>None</td><td>gum</td><td>20</td><td>USA</td><td>2021-05-12T00:07:04.072+0000</td><td>2021-05-12T11:53:32.697+0000</td><td>0.35</td></tr><tr><td>Amazon-us</td><td>ASIN107</td><td>ASINGROUP107</td><td>gums pack of 400</td><td>290 g</td><td>22.0</td><td>75.86</td><td>false</td><td>None</td><td>22</td><td>None</td><td>gum</td><td>45</td><td>USA</td><td>2021-05-12T00:06:12.979+0000</td><td>2021-05-12T11:53:32.699+0000</td><td>0.29</td></tr></tbody></table></div>"
      ]
     },
     "metadata": {
      "application/vnd.databricks.v1+output": {
       "addedWidgets": {},
       "aggData": [],
       "aggError": "",
       "aggOverflow": false,
       "aggSchema": [],
       "aggSeriesLimitReached": false,
       "aggType": "",
       "arguments": {},
       "columnCustomDisplayInfos": {},
       "data": [
        [
         "Amazon-In",
         "ASIN06",
         "ASINGROUP6",
         "Chocolate box of 15",
         "10 kg",
         150.0,
         15.0,
         true,
         "was $203",
         150,
         "PRICE_CUT",
         "chocolate",
         32,
         "India",
         "2021-05-12T00:07:02.337+0000",
         "2021-05-12T11:53:32.321+0000",
         10.0
        ],
        [
         "Amazon-us",
         "ASIN103",
         "ASINGROUP103",
         "gums pack of 200",
         "130 g",
         14.0,
         107.69,
         true,
         "was $20",
         14,
         "PRICE_CUT",
         "gum",
         30,
         "USA",
         "2021-05-12T00:20:47.941+0000",
         "2021-05-12T11:53:33.189+0000",
         0.13
        ],
        [
         "Amazon-us",
         "ASIN105",
         "ASINGROUP105",
         "gums pack of 300",
         "210 g",
         18.0,
         85.71,
         true,
         "was $20",
         18,
         "PRICE_CUT",
         "gum",
         5,
         "USA",
         "2021-05-12T00:20:34.657+0000",
         "2021-05-12T11:53:33.188+0000",
         0.21
        ],
        [
         "Amazon-us",
         "ASIN108",
         "ASINGROUP108",
         "gums pack of 450",
         "310 g",
         24.0,
         77.42,
         true,
         "was $30",
         24,
         "PRICE_CUT",
         "gum",
         2,
         "USA",
         "2021-05-12T00:20:53.302+0000",
         "2021-05-12T11:53:32.692+0000",
         0.31
        ],
        [
         "Amazon-In",
         "ASIN08",
         "ASINGROUP8",
         "Chocolate box of 17",
         "12 kg",
         250.0,
         20.83,
         true,
         "was $300",
         250,
         "PRICE_CUT",
         "chocolate",
         2,
         "India",
         "2021-05-12T00:20:53.302+0000",
         "2021-05-12T11:53:32.692+0000",
         12.0
        ],
        [
         "Amazon-us",
         "ASIN104",
         "ASINGROUP104",
         "gums pack of 250",
         "170 g",
         16.0,
         94.12,
         true,
         "was $20",
         16,
         "PRICE_CUT",
         "gum",
         10,
         "USA",
         "2021-05-12T00:07:11.911+0000",
         "2021-05-12T11:53:32.321+0000",
         0.17
        ],
        [
         "Amazon-us",
         "ASIN101",
         "ASINGROUP101",
         "gums pack of 100",
         "50 g",
         10.0,
         200.0,
         false,
         "None",
         10,
         "None",
         "gum",
         19,
         "USA",
         "2021-05-12T00:07:04.072+0000",
         "2021-05-12T11:53:32.697+0000",
         0.05
        ],
        [
         "Amazon-In",
         "ASIN01",
         "ASINGROUP1",
         "Chocolate box of 10",
         "5 kg",
         100.0,
         20.0,
         false,
         "None",
         100,
         "None",
         "chocolate",
         19,
         "India",
         "2021-05-12T00:07:04.072+0000",
         "2021-05-12T11:53:32.697+0000",
         5.0
        ],
        [
         "Amazon-In",
         "ASIN09",
         "ASINGROUP9",
         "Chocolate box of 18",
         "13 kg",
         300.0,
         23.08,
         false,
         "None",
         300,
         "None",
         "chocolate",
         20,
         "India",
         "2021-05-12T00:07:04.072+0000",
         "2021-05-12T11:53:32.697+0000",
         13.0
        ],
        [
         "Amazon-In",
         "ASIN03",
         "ASINGROUP3",
         "Chocolate box of 12",
         "7 kg",
         170.0,
         24.29,
         true,
         "was $200",
         170,
         "PRICE_CUT",
         "chocolate",
         30,
         "India",
         "2021-05-12T00:20:47.941+0000",
         "2021-05-12T11:53:33.189+0000",
         7.0
        ],
        [
         "Amazon-In",
         "ASIN02",
         "ASINGROUP2",
         "Chocolate box of 11",
         "6 kg",
         150.0,
         25.0,
         false,
         "None",
         150,
         "None",
         "chocolate",
         26,
         "India",
         "2021-05-12T00:20:29.276+0000",
         "2021-05-12T11:53:33.191+0000",
         6.0
        ],
        [
         "Amazon-In",
         "ASIN05",
         "ASINGROUP5",
         "Chocolate box of 14",
         "9 kg",
         110.0,
         12.22,
         true,
         "was $202",
         110,
         "PRICE_CUT",
         "chocolate",
         5,
         "India",
         "2021-05-12T00:20:34.657+0000",
         "2021-05-12T11:53:33.188+0000",
         9.0
        ],
        [
         "Amazon-In",
         "ASIN07",
         "ASINGROUP7",
         "Chocolate box of 16",
         "11 kg",
         200.0,
         18.18,
         false,
         "None",
         200,
         "None",
         "chocolate",
         45,
         "India",
         "2021-05-12T00:06:12.979+0000",
         "2021-05-12T11:53:32.699+0000",
         11.0
        ],
        [
         "Amazon-In",
         "ASIN04",
         "ASINGROUP4",
         "Chocolate box of 13",
         "8 kg",
         150.0,
         18.75,
         true,
         "was $201",
         150,
         "PRICE_CUT",
         "chocolate",
         10,
         "India",
         "2021-05-12T00:07:11.911+0000",
         "2021-05-12T11:53:32.321+0000",
         8.0
        ],
        [
         "Amazon-us",
         "ASIN106",
         "ASINGROUP106",
         "gums pack of 350",
         "250 g",
         20.0,
         80.0,
         true,
         "was $20",
         20,
         "PRICE_CUT",
         "gum",
         32,
         "USA",
         "2021-05-12T00:07:02.337+0000",
         "2021-05-12T11:53:32.321+0000",
         0.25
        ],
        [
         "Amazon-us",
         "ASIN110",
         "ASINGROUP110",
         "gums pack of 550",
         "390 g",
         28.0,
         71.79,
         false,
         "None",
         28,
         "None",
         "gum",
         10,
         "USA",
         "2021-05-12T00:07:04.072+0000",
         "2021-05-12T11:53:32.697+0000",
         0.39
        ],
        [
         "Amazon-us",
         "ASIN102",
         "ASINGROUP102",
         "gums pack of 150",
         "90 g",
         12.0,
         133.33,
         false,
         "None",
         12,
         "None",
         "gum",
         26,
         "USA",
         "2021-05-12T00:20:29.276+0000",
         "2021-05-12T11:53:33.191+0000",
         0.09
        ],
        [
         "Amazon-us",
         "ASIN109",
         "ASINGROUP109",
         "gums pack of 500",
         "350 g",
         26.0,
         74.29,
         false,
         "None",
         26,
         "None",
         "gum",
         20,
         "USA",
         "2021-05-12T00:07:04.072+0000",
         "2021-05-12T11:53:32.697+0000",
         0.35
        ],
        [
         "Amazon-us",
         "ASIN107",
         "ASINGROUP107",
         "gums pack of 400",
         "290 g",
         22.0,
         75.86,
         false,
         "None",
         22,
         "None",
         "gum",
         45,
         "USA",
         "2021-05-12T00:06:12.979+0000",
         "2021-05-12T11:53:32.699+0000",
         0.29
        ]
       ],
       "datasetInfos": [],
       "dbfsResultPath": null,
       "isJsonSchema": true,
       "metadata": {},
       "overflow": false,
       "plotOptions": {
        "customPlotOptions": {},
        "displayType": "table",
        "pivotAggregation": null,
        "pivotColumns": null,
        "xColumns": null,
        "yColumns": null
       },
       "removedWidgets": [],
       "schema": [
        {
         "metadata": "{}",
         "name": "retailer",
         "type": "\"string\""
        },
        {
         "metadata": "{}",
         "name": "retailer_product_id",
         "type": "\"string\""
        },
        {
         "metadata": "{}",
         "name": "retailer_group_id",
         "type": "\"string\""
        },
        {
         "metadata": "{}",
         "name": "retailer_product_name",
         "type": "\"string\""
        },
        {
         "metadata": "{}",
         "name": "net_quantity",
         "type": "\"string\""
        },
        {
         "metadata": "{}",
         "name": "price",
         "type": "\"double\""
        },
        {
         "metadata": "{}",
         "name": "price_per_unit",
         "type": "\"double\""
        },
        {
         "metadata": "{}",
         "name": "sponsored",
         "type": "\"boolean\""
        },
        {
         "metadata": "{}",
         "name": "promotion_text",
         "type": "\"string\""
        },
        {
         "metadata": "{}",
         "name": "parsed_price",
         "type": "\"integer\""
        },
        {
         "metadata": "{}",
         "name": "promotion_type",
         "type": "\"string\""
        },
        {
         "metadata": "{}",
         "name": "search_term",
         "type": "\"string\""
        },
        {
         "metadata": "{}",
         "name": "rank",
         "type": "\"integer\""
        },
        {
         "metadata": "{}",
         "name": "country",
         "type": "\"string\""
        },
        {
         "metadata": "{}",
         "name": "gathered_timestamp",
         "type": "\"timestamp\""
        },
        {
         "metadata": "{}",
         "name": "insert_timestamp",
         "type": "\"timestamp\""
        },
        {
         "metadata": "{}",
         "name": "net_quantity_kg",
         "type": "\"double\""
        }
       ],
       "type": "table"
      }
     },
     "output_type": "display_data"
    }
   ],
   "source": [
    "display(data)"
   ]
  },
  {
   "cell_type": "markdown",
   "metadata": {
    "application/vnd.databricks.v1+cell": {
     "cellMetadata": {},
     "inputWidgets": {},
     "nuid": "5b9d1e30-f16a-4694-a581-921e7ecf93a1",
     "showTitle": false,
     "title": ""
    }
   },
   "source": [
    "#### Checking Business Rules"
   ]
  },
  {
   "cell_type": "code",
   "execution_count": 0,
   "metadata": {
    "application/vnd.databricks.v1+cell": {
     "cellMetadata": {
      "byteLimit": 2048000,
      "rowLimit": 10000
     },
     "inputWidgets": {},
     "nuid": "6dd82c77-a5a0-4700-84d8-0201646abf9c",
     "showTitle": false,
     "title": ""
    }
   },
   "outputs": [
    {
     "output_type": "stream",
     "name": "stdout",
     "output_type": "stream",
     "text": [
      "All business rules are satisfied.\n"
     ]
    }
   ],
   "source": [
    "# 1. Check if any price are negative\n",
    "negative_prices = data.filter(col(\"price\") < 0).count() > 0\n",
    "\n",
    "# 2. Check if any rank values are outside the range 1-100\n",
    "invalid_rank = data.filter((col(\"rank\") < 1 ) | (col(\"rank\") > 100)).count() > 0\n",
    "\n",
    "# 3. Check if the retailer's suffix aligns with country\n",
    "misaligned_retailer_country_in = data.filter(col(\"retailer\").contains(\"-In\") & (col(\"country\") != \"India\")).count() > 0\n",
    "misaligned_retailer_country_us = data.filter(col(\"retailer\").contains(\"-us\") & (col(\"country\") != \"USA\")).count() > 0\n",
    "\n",
    "# Check and report business rule violations\n",
    "if negative_prices:\n",
    "    print(\"Error: Some records have negative prices\")\n",
    "\n",
    "if invalid_rank:\n",
    "    print(\"Error: Some products have ranks outside the 1-100 range!\")\n",
    "\n",
    "if misaligned_retailer_country_in or misaligned_retailer_country_us:\n",
    "    print(\"Error: Some retailers don't align with their respecive countries!\")\n",
    "\n",
    "if not (negative_prices or invalid_rank or misaligned_retailer_country_in or misaligned_retailer_country_us):\n",
    "    print(\"All business rules are satisfied.\")"
   ]
  },
  {
   "cell_type": "code",
   "execution_count": 0,
   "metadata": {
    "application/vnd.databricks.v1+cell": {
     "cellMetadata": {
      "byteLimit": 2048000,
      "rowLimit": 10000
     },
     "inputWidgets": {},
     "nuid": "ce5ac931-5130-4b45-8e5e-b0efe4798e68",
     "showTitle": false,
     "title": ""
    }
   },
   "outputs": [
    {
     "output_type": "stream",
     "name": "stdout",
     "output_type": "stream",
     "text": [
      "There is no Data Type inconsistencies in Given dataset\n"
     ]
    }
   ],
   "source": [
    "# Check for Data Type Consistency\n",
    "data_type_inconsistencies = {}\n",
    "for field in my_schema.fields:\n",
    "    col_name = field.name\n",
    "    expected_data_type = field.dataType\n",
    "    actual_data_type = data.schema[col_name].dataType\n",
    "\n",
    "    if actual_data_type != expected_data_type:\n",
    "        data_type_inconsistencies[col_name] = (actual_data_type, expected_data_type)\n",
    "\n",
    "if not data_type_inconsistencies:\n",
    "    print(\"There is no Data Type inconsistencies in Given dataset\")\n",
    "else:\n",
    "    print(\"\\nData Type Inconsistencies:\")\n",
    "    for col_name, (actual_type, expected_type) in data_type_inconsistencies.items():\n",
    "        print(f\"Column '{col_name}': Expected data type {expected_type}, Actual data type {actual_type}\")"
   ]
  },
  {
   "cell_type": "code",
   "execution_count": 0,
   "metadata": {
    "application/vnd.databricks.v1+cell": {
     "cellMetadata": {
      "byteLimit": 2048000,
      "rowLimit": 10000
     },
     "inputWidgets": {},
     "nuid": "bf36602b-53af-4546-b6ea-f5e850fe44ee",
     "showTitle": false,
     "title": ""
    }
   },
   "outputs": [
    {
     "output_type": "stream",
     "name": "stdout",
     "output_type": "stream",
     "text": [
      "\nData Validation: All checks passed.\n"
     ]
    }
   ],
   "source": [
    "# Check if any data quality issues were found\n",
    "if not (missing_values or data_type_inconsistencies):\n",
    "    print(\"\\nData Validation: All checks passed.\")"
   ]
  },
  {
   "cell_type": "code",
   "execution_count": 0,
   "metadata": {
    "application/vnd.databricks.v1+cell": {
     "cellMetadata": {
      "byteLimit": 2048000,
      "rowLimit": 10000
     },
     "inputWidgets": {},
     "nuid": "fe352abf-879f-46b5-b246-7aacb0c2eae3",
     "showTitle": false,
     "title": ""
    }
   },
   "outputs": [
    {
     "output_type": "stream",
     "name": "stdout",
     "output_type": "stream",
     "text": [
      "Number of rows:  19\nNumber of columns:  17\n"
     ]
    }
   ],
   "source": [
    "# Step 11: Verify the total number of rows and columns\n",
    "print(\"Number of rows: \", data.count())\n",
    "print(\"Number of columns: \", len(data.columns))"
   ]
  },
  {
   "cell_type": "code",
   "execution_count": 0,
   "metadata": {
    "application/vnd.databricks.v1+cell": {
     "cellMetadata": {
      "byteLimit": 2048000,
      "rowLimit": 10000
     },
     "inputWidgets": {},
     "nuid": "4a9feb48-aa7b-48c2-9bec-1cf7a69d2184",
     "showTitle": false,
     "title": ""
    }
   },
   "outputs": [
    {
     "output_type": "display_data",
     "data": {
      "text/html": [
       "<style scoped>\n",
       "  .table-result-container {\n",
       "    max-height: 300px;\n",
       "    overflow: auto;\n",
       "  }\n",
       "  table, th, td {\n",
       "    border: 1px solid black;\n",
       "    border-collapse: collapse;\n",
       "  }\n",
       "  th, td {\n",
       "    padding: 5px;\n",
       "  }\n",
       "  th {\n",
       "    text-align: left;\n",
       "  }\n",
       "</style><div class='table-result-container'><table class='table-result'><thead style='background-color: white'><tr><th>summary</th><th>retailer</th><th>retailer_product_id</th><th>retailer_group_id</th><th>retailer_product_name</th><th>net_quantity</th><th>price</th><th>price_per_unit</th><th>promotion_text</th><th>parsed_price</th><th>promotion_type</th><th>search_term</th><th>rank</th><th>country</th><th>net_quantity_kg</th></tr></thead><tbody><tr><td>count</td><td>19</td><td>19</td><td>19</td><td>19</td><td>19</td><td>19</td><td>19</td><td>19</td><td>19</td><td>19</td><td>19</td><td>19</td><td>19</td><td>19</td></tr><tr><td>mean</td><td>null</td><td>null</td><td>null</td><td>null</td><td>null</td><td>93.15789473684211</td><td>61.976842105263145</td><td>null</td><td>93.15789473684211</td><td>null</td><td>null</td><td>20.42105263157895</td><td>null</td><td>4.381052631578948</td></tr><tr><td>stddev</td><td>null</td><td>null</td><td>null</td><td>null</td><td>null</td><td>91.30246629131764</td><td>50.03151240886218</td><td>null</td><td>91.30246629131764</td><td>null</td><td>null</td><td>13.347141972362824</td><td>null</td><td>4.858777732375868</td></tr><tr><td>min</td><td>Amazon-In</td><td>ASIN01</td><td>ASINGROUP1</td><td>Chocolate box of 10</td><td>10 kg</td><td>10.0</td><td>12.22</td><td>None</td><td>10</td><td>None</td><td>chocolate</td><td>2</td><td>India</td><td>0.05</td></tr><tr><td>max</td><td>Amazon-us</td><td>ASIN110</td><td>ASINGROUP9</td><td>gums pack of 550</td><td>90 g</td><td>300.0</td><td>200.0</td><td>was $300</td><td>300</td><td>PRICE_CUT</td><td>gum</td><td>45</td><td>USA</td><td>13.0</td></tr></tbody></table></div>"
      ]
     },
     "metadata": {
      "application/vnd.databricks.v1+output": {
       "addedWidgets": {},
       "aggData": [],
       "aggError": "",
       "aggOverflow": false,
       "aggSchema": [],
       "aggSeriesLimitReached": false,
       "aggType": "",
       "arguments": {},
       "columnCustomDisplayInfos": {},
       "data": [
        [
         "count",
         "19",
         "19",
         "19",
         "19",
         "19",
         "19",
         "19",
         "19",
         "19",
         "19",
         "19",
         "19",
         "19",
         "19"
        ],
        [
         "mean",
         null,
         null,
         null,
         null,
         null,
         "93.15789473684211",
         "61.976842105263145",
         null,
         "93.15789473684211",
         null,
         null,
         "20.42105263157895",
         null,
         "4.381052631578948"
        ],
        [
         "stddev",
         null,
         null,
         null,
         null,
         null,
         "91.30246629131764",
         "50.03151240886218",
         null,
         "91.30246629131764",
         null,
         null,
         "13.347141972362824",
         null,
         "4.858777732375868"
        ],
        [
         "min",
         "Amazon-In",
         "ASIN01",
         "ASINGROUP1",
         "Chocolate box of 10",
         "10 kg",
         "10.0",
         "12.22",
         "None",
         "10",
         "None",
         "chocolate",
         "2",
         "India",
         "0.05"
        ],
        [
         "max",
         "Amazon-us",
         "ASIN110",
         "ASINGROUP9",
         "gums pack of 550",
         "90 g",
         "300.0",
         "200.0",
         "was $300",
         "300",
         "PRICE_CUT",
         "gum",
         "45",
         "USA",
         "13.0"
        ]
       ],
       "datasetInfos": [],
       "dbfsResultPath": null,
       "isJsonSchema": true,
       "metadata": {},
       "overflow": false,
       "plotOptions": {
        "customPlotOptions": {},
        "displayType": "table",
        "pivotAggregation": null,
        "pivotColumns": null,
        "xColumns": null,
        "yColumns": null
       },
       "removedWidgets": [],
       "schema": [
        {
         "metadata": "{}",
         "name": "summary",
         "type": "\"string\""
        },
        {
         "metadata": "{}",
         "name": "retailer",
         "type": "\"string\""
        },
        {
         "metadata": "{}",
         "name": "retailer_product_id",
         "type": "\"string\""
        },
        {
         "metadata": "{}",
         "name": "retailer_group_id",
         "type": "\"string\""
        },
        {
         "metadata": "{}",
         "name": "retailer_product_name",
         "type": "\"string\""
        },
        {
         "metadata": "{}",
         "name": "net_quantity",
         "type": "\"string\""
        },
        {
         "metadata": "{}",
         "name": "price",
         "type": "\"string\""
        },
        {
         "metadata": "{}",
         "name": "price_per_unit",
         "type": "\"string\""
        },
        {
         "metadata": "{}",
         "name": "promotion_text",
         "type": "\"string\""
        },
        {
         "metadata": "{}",
         "name": "parsed_price",
         "type": "\"string\""
        },
        {
         "metadata": "{}",
         "name": "promotion_type",
         "type": "\"string\""
        },
        {
         "metadata": "{}",
         "name": "search_term",
         "type": "\"string\""
        },
        {
         "metadata": "{}",
         "name": "rank",
         "type": "\"string\""
        },
        {
         "metadata": "{}",
         "name": "country",
         "type": "\"string\""
        },
        {
         "metadata": "{}",
         "name": "net_quantity_kg",
         "type": "\"string\""
        }
       ],
       "type": "table"
      }
     },
     "output_type": "display_data"
    }
   ],
   "source": [
    "# Step 12: Verify summary statistics\n",
    "display(data.describe())"
   ]
  },
  {
   "cell_type": "code",
   "execution_count": 0,
   "metadata": {
    "application/vnd.databricks.v1+cell": {
     "cellMetadata": {
      "byteLimit": 2048000,
      "rowLimit": 10000
     },
     "inputWidgets": {},
     "nuid": "6988a625-49a6-4918-bb26-123492fe4585",
     "showTitle": false,
     "title": ""
    }
   },
   "outputs": [
    {
     "output_type": "display_data",
     "data": {
      "text/html": [
       "<style scoped>\n",
       "  .table-result-container {\n",
       "    max-height: 300px;\n",
       "    overflow: auto;\n",
       "  }\n",
       "  table, th, td {\n",
       "    border: 1px solid black;\n",
       "    border-collapse: collapse;\n",
       "  }\n",
       "  th, td {\n",
       "    padding: 5px;\n",
       "  }\n",
       "  th {\n",
       "    text-align: left;\n",
       "  }\n",
       "</style><div class='table-result-container'><table class='table-result'><thead style='background-color: white'><tr><th>min_retailer</th><th>min_retailer_product_id</th><th>min_retailer_group_id</th><th>min_retailer_product_name</th><th>min_net_quantity</th><th>min_price</th><th>min_price_per_unit</th><th>min_sponsored</th><th>min_promotion_text</th><th>min_parsed_price</th><th>min_promotion_type</th><th>min_search_term</th><th>min_rank</th><th>min_country</th><th>min_gathered_timestamp</th><th>min_insert_timestamp</th><th>min_net_quantity_kg</th></tr></thead><tbody><tr><td>Amazon-In</td><td>ASIN01</td><td>ASINGROUP1</td><td>Chocolate box of 10</td><td>10 kg</td><td>10.0</td><td>12.22</td><td>false</td><td>None</td><td>10</td><td>None</td><td>chocolate</td><td>2</td><td>India</td><td>2021-05-12T00:06:12.979+0000</td><td>2021-05-12T11:53:32.321+0000</td><td>0.05</td></tr></tbody></table></div>"
      ]
     },
     "metadata": {
      "application/vnd.databricks.v1+output": {
       "addedWidgets": {},
       "aggData": [],
       "aggError": "",
       "aggOverflow": false,
       "aggSchema": [],
       "aggSeriesLimitReached": false,
       "aggType": "",
       "arguments": {},
       "columnCustomDisplayInfos": {},
       "data": [
        [
         "Amazon-In",
         "ASIN01",
         "ASINGROUP1",
         "Chocolate box of 10",
         "10 kg",
         10.0,
         12.22,
         false,
         "None",
         10,
         "None",
         "chocolate",
         2,
         "India",
         "2021-05-12T00:06:12.979+0000",
         "2021-05-12T11:53:32.321+0000",
         0.05
        ]
       ],
       "datasetInfos": [],
       "dbfsResultPath": null,
       "isJsonSchema": true,
       "metadata": {},
       "overflow": false,
       "plotOptions": {
        "customPlotOptions": {},
        "displayType": "table",
        "pivotAggregation": null,
        "pivotColumns": null,
        "xColumns": null,
        "yColumns": null
       },
       "removedWidgets": [],
       "schema": [
        {
         "metadata": "{}",
         "name": "min_retailer",
         "type": "\"string\""
        },
        {
         "metadata": "{}",
         "name": "min_retailer_product_id",
         "type": "\"string\""
        },
        {
         "metadata": "{}",
         "name": "min_retailer_group_id",
         "type": "\"string\""
        },
        {
         "metadata": "{}",
         "name": "min_retailer_product_name",
         "type": "\"string\""
        },
        {
         "metadata": "{}",
         "name": "min_net_quantity",
         "type": "\"string\""
        },
        {
         "metadata": "{}",
         "name": "min_price",
         "type": "\"double\""
        },
        {
         "metadata": "{}",
         "name": "min_price_per_unit",
         "type": "\"double\""
        },
        {
         "metadata": "{}",
         "name": "min_sponsored",
         "type": "\"boolean\""
        },
        {
         "metadata": "{}",
         "name": "min_promotion_text",
         "type": "\"string\""
        },
        {
         "metadata": "{}",
         "name": "min_parsed_price",
         "type": "\"integer\""
        },
        {
         "metadata": "{}",
         "name": "min_promotion_type",
         "type": "\"string\""
        },
        {
         "metadata": "{}",
         "name": "min_search_term",
         "type": "\"string\""
        },
        {
         "metadata": "{}",
         "name": "min_rank",
         "type": "\"integer\""
        },
        {
         "metadata": "{}",
         "name": "min_country",
         "type": "\"string\""
        },
        {
         "metadata": "{}",
         "name": "min_gathered_timestamp",
         "type": "\"timestamp\""
        },
        {
         "metadata": "{}",
         "name": "min_insert_timestamp",
         "type": "\"timestamp\""
        },
        {
         "metadata": "{}",
         "name": "min_net_quantity_kg",
         "type": "\"double\""
        }
       ],
       "type": "table"
      }
     },
     "output_type": "display_data"
    },
    {
     "output_type": "display_data",
     "data": {
      "text/html": [
       "<style scoped>\n",
       "  .table-result-container {\n",
       "    max-height: 300px;\n",
       "    overflow: auto;\n",
       "  }\n",
       "  table, th, td {\n",
       "    border: 1px solid black;\n",
       "    border-collapse: collapse;\n",
       "  }\n",
       "  th, td {\n",
       "    padding: 5px;\n",
       "  }\n",
       "  th {\n",
       "    text-align: left;\n",
       "  }\n",
       "</style><div class='table-result-container'><table class='table-result'><thead style='background-color: white'><tr><th>max_retailer</th><th>max_retailer_product_id</th><th>max_retailer_group_id</th><th>max_retailer_product_name</th><th>max_net_quantity</th><th>max_price</th><th>max_price_per_unit</th><th>max_sponsored</th><th>max_promotion_text</th><th>max_parsed_price</th><th>max_promotion_type</th><th>max_search_term</th><th>max_rank</th><th>max_country</th><th>max_gathered_timestamp</th><th>max_insert_timestamp</th><th>max_net_quantity_kg</th></tr></thead><tbody><tr><td>Amazon-us</td><td>ASIN110</td><td>ASINGROUP9</td><td>gums pack of 550</td><td>90 g</td><td>300.0</td><td>200.0</td><td>true</td><td>was $300</td><td>300</td><td>PRICE_CUT</td><td>gum</td><td>45</td><td>USA</td><td>2021-05-12T00:20:53.302+0000</td><td>2021-05-12T11:53:33.191+0000</td><td>13.0</td></tr></tbody></table></div>"
      ]
     },
     "metadata": {
      "application/vnd.databricks.v1+output": {
       "addedWidgets": {},
       "aggData": [],
       "aggError": "",
       "aggOverflow": false,
       "aggSchema": [],
       "aggSeriesLimitReached": false,
       "aggType": "",
       "arguments": {},
       "columnCustomDisplayInfos": {},
       "data": [
        [
         "Amazon-us",
         "ASIN110",
         "ASINGROUP9",
         "gums pack of 550",
         "90 g",
         300.0,
         200.0,
         true,
         "was $300",
         300,
         "PRICE_CUT",
         "gum",
         45,
         "USA",
         "2021-05-12T00:20:53.302+0000",
         "2021-05-12T11:53:33.191+0000",
         13.0
        ]
       ],
       "datasetInfos": [],
       "dbfsResultPath": null,
       "isJsonSchema": true,
       "metadata": {},
       "overflow": false,
       "plotOptions": {
        "customPlotOptions": {},
        "displayType": "table",
        "pivotAggregation": null,
        "pivotColumns": null,
        "xColumns": null,
        "yColumns": null
       },
       "removedWidgets": [],
       "schema": [
        {
         "metadata": "{}",
         "name": "max_retailer",
         "type": "\"string\""
        },
        {
         "metadata": "{}",
         "name": "max_retailer_product_id",
         "type": "\"string\""
        },
        {
         "metadata": "{}",
         "name": "max_retailer_group_id",
         "type": "\"string\""
        },
        {
         "metadata": "{}",
         "name": "max_retailer_product_name",
         "type": "\"string\""
        },
        {
         "metadata": "{}",
         "name": "max_net_quantity",
         "type": "\"string\""
        },
        {
         "metadata": "{}",
         "name": "max_price",
         "type": "\"double\""
        },
        {
         "metadata": "{}",
         "name": "max_price_per_unit",
         "type": "\"double\""
        },
        {
         "metadata": "{}",
         "name": "max_sponsored",
         "type": "\"boolean\""
        },
        {
         "metadata": "{}",
         "name": "max_promotion_text",
         "type": "\"string\""
        },
        {
         "metadata": "{}",
         "name": "max_parsed_price",
         "type": "\"integer\""
        },
        {
         "metadata": "{}",
         "name": "max_promotion_type",
         "type": "\"string\""
        },
        {
         "metadata": "{}",
         "name": "max_search_term",
         "type": "\"string\""
        },
        {
         "metadata": "{}",
         "name": "max_rank",
         "type": "\"integer\""
        },
        {
         "metadata": "{}",
         "name": "max_country",
         "type": "\"string\""
        },
        {
         "metadata": "{}",
         "name": "max_gathered_timestamp",
         "type": "\"timestamp\""
        },
        {
         "metadata": "{}",
         "name": "max_insert_timestamp",
         "type": "\"timestamp\""
        },
        {
         "metadata": "{}",
         "name": "max_net_quantity_kg",
         "type": "\"double\""
        }
       ],
       "type": "table"
      }
     },
     "output_type": "display_data"
    }
   ],
   "source": [
    "# Step 13: Find the maximum and minimum values in each column\n",
    "display(data.agg(*[min(col_name).alias(f\"min_{col_name}\") for col_name in data.columns]))\n",
    "display(data.agg(*[max(col_name).alias(f\"max_{col_name}\") for col_name in data.columns]))"
   ]
  },
  {
   "cell_type": "code",
   "execution_count": 0,
   "metadata": {
    "application/vnd.databricks.v1+cell": {
     "cellMetadata": {
      "byteLimit": 2048000,
      "rowLimit": 10000
     },
     "inputWidgets": {},
     "nuid": "b6940914-0f0c-4cda-8f8f-a83c4d4fb552",
     "showTitle": false,
     "title": ""
    }
   },
   "outputs": [
    {
     "output_type": "stream",
     "name": "stdout",
     "output_type": "stream",
     "text": [
      "+--------+-------------------+-----------------+---------------------+------------+-----+--------------+---------+--------------+------------+--------------+-----------+----+-------+------------------+----------------+---------------+-----+\n|retailer|retailer_product_id|retailer_group_id|retailer_product_name|net_quantity|price|price_per_unit|sponsored|promotion_text|parsed_price|promotion_type|search_term|rank|country|gathered_timestamp|insert_timestamp|net_quantity_kg|count|\n+--------+-------------------+-----------------+---------------------+------------+-----+--------------+---------+--------------+------------+--------------+-----------+----+-------+------------------+----------------+---------------+-----+\n+--------+-------------------+-----------------+---------------------+------------+-----+--------------+---------+--------------+------------+--------------+-----------+----+-------+------------------+----------------+---------------+-----+\n\n"
     ]
    }
   ],
   "source": [
    "# Step 14: Find duplicate values in columns if needed\n",
    "duplicate_rows = data.groupBy(data.columns).count().where(col(\"count\") > 1)\n",
    "duplicate_rows.show()"
   ]
  },
  {
   "cell_type": "code",
   "execution_count": 0,
   "metadata": {
    "application/vnd.databricks.v1+cell": {
     "cellMetadata": {
      "byteLimit": 2048000,
      "rowLimit": 10000
     },
     "inputWidgets": {},
     "nuid": "33f7c072-281a-4b91-8530-8a932d105fd8",
     "showTitle": false,
     "title": ""
    }
   },
   "outputs": [
    {
     "output_type": "display_data",
     "data": {
      "text/html": [
       "<style scoped>\n",
       "  .table-result-container {\n",
       "    max-height: 300px;\n",
       "    overflow: auto;\n",
       "  }\n",
       "  table, th, td {\n",
       "    border: 1px solid black;\n",
       "    border-collapse: collapse;\n",
       "  }\n",
       "  th, td {\n",
       "    padding: 5px;\n",
       "  }\n",
       "  th {\n",
       "    text-align: left;\n",
       "  }\n",
       "</style><div class='table-result-container'><table class='table-result'><thead style='background-color: white'><tr><th>retailer</th><th>retailer_product_id</th><th>retailer_group_id</th><th>retailer_product_name</th><th>net_quantity</th><th>price</th><th>price_per_unit</th><th>sponsored</th><th>promotion_text</th><th>parsed_price</th><th>promotion_type</th><th>search_term</th><th>rank</th><th>country</th><th>gathered_timestamp</th><th>insert_timestamp</th><th>net_quantity_kg</th></tr></thead><tbody><tr><td>Amazon-In</td><td>ASIN06</td><td>ASINGROUP6</td><td>Chocolate box of 15</td><td>10 kg</td><td>150.0</td><td>15.0</td><td>true</td><td>was $203</td><td>150</td><td>PRICE_CUT</td><td>chocolate</td><td>32</td><td>India</td><td>2021-05-12T00:07:02.337+0000</td><td>2021-05-12T11:53:32.321+0000</td><td>10.0</td></tr><tr><td>Amazon-us</td><td>ASIN103</td><td>ASINGROUP103</td><td>gums pack of 200</td><td>130 g</td><td>14.0</td><td>107.69</td><td>true</td><td>was $20</td><td>14</td><td>PRICE_CUT</td><td>gum</td><td>30</td><td>USA</td><td>2021-05-12T00:20:47.941+0000</td><td>2021-05-12T11:53:33.189+0000</td><td>0.13</td></tr><tr><td>Amazon-us</td><td>ASIN105</td><td>ASINGROUP105</td><td>gums pack of 300</td><td>210 g</td><td>18.0</td><td>85.71</td><td>true</td><td>was $20</td><td>18</td><td>PRICE_CUT</td><td>gum</td><td>5</td><td>USA</td><td>2021-05-12T00:20:34.657+0000</td><td>2021-05-12T11:53:33.188+0000</td><td>0.21</td></tr><tr><td>Amazon-us</td><td>ASIN108</td><td>ASINGROUP108</td><td>gums pack of 450</td><td>310 g</td><td>24.0</td><td>77.42</td><td>true</td><td>was $30</td><td>24</td><td>PRICE_CUT</td><td>gum</td><td>2</td><td>USA</td><td>2021-05-12T00:20:53.302+0000</td><td>2021-05-12T11:53:32.692+0000</td><td>0.31</td></tr><tr><td>Amazon-In</td><td>ASIN08</td><td>ASINGROUP8</td><td>Chocolate box of 17</td><td>12 kg</td><td>250.0</td><td>20.83</td><td>true</td><td>was $300</td><td>250</td><td>PRICE_CUT</td><td>chocolate</td><td>2</td><td>India</td><td>2021-05-12T00:20:53.302+0000</td><td>2021-05-12T11:53:32.692+0000</td><td>12.0</td></tr><tr><td>Amazon-us</td><td>ASIN104</td><td>ASINGROUP104</td><td>gums pack of 250</td><td>170 g</td><td>16.0</td><td>94.12</td><td>true</td><td>was $20</td><td>16</td><td>PRICE_CUT</td><td>gum</td><td>10</td><td>USA</td><td>2021-05-12T00:07:11.911+0000</td><td>2021-05-12T11:53:32.321+0000</td><td>0.17</td></tr><tr><td>Amazon-us</td><td>ASIN101</td><td>ASINGROUP101</td><td>gums pack of 100</td><td>50 g</td><td>10.0</td><td>200.0</td><td>false</td><td>None</td><td>10</td><td>None</td><td>gum</td><td>19</td><td>USA</td><td>2021-05-12T00:07:04.072+0000</td><td>2021-05-12T11:53:32.697+0000</td><td>0.05</td></tr><tr><td>Amazon-In</td><td>ASIN01</td><td>ASINGROUP1</td><td>Chocolate box of 10</td><td>5 kg</td><td>100.0</td><td>20.0</td><td>false</td><td>None</td><td>100</td><td>None</td><td>chocolate</td><td>19</td><td>India</td><td>2021-05-12T00:07:04.072+0000</td><td>2021-05-12T11:53:32.697+0000</td><td>5.0</td></tr><tr><td>Amazon-In</td><td>ASIN09</td><td>ASINGROUP9</td><td>Chocolate box of 18</td><td>13 kg</td><td>300.0</td><td>23.08</td><td>false</td><td>None</td><td>300</td><td>None</td><td>chocolate</td><td>20</td><td>India</td><td>2021-05-12T00:07:04.072+0000</td><td>2021-05-12T11:53:32.697+0000</td><td>13.0</td></tr><tr><td>Amazon-In</td><td>ASIN03</td><td>ASINGROUP3</td><td>Chocolate box of 12</td><td>7 kg</td><td>170.0</td><td>24.29</td><td>true</td><td>was $200</td><td>170</td><td>PRICE_CUT</td><td>chocolate</td><td>30</td><td>India</td><td>2021-05-12T00:20:47.941+0000</td><td>2021-05-12T11:53:33.189+0000</td><td>7.0</td></tr><tr><td>Amazon-In</td><td>ASIN02</td><td>ASINGROUP2</td><td>Chocolate box of 11</td><td>6 kg</td><td>150.0</td><td>25.0</td><td>false</td><td>None</td><td>150</td><td>None</td><td>chocolate</td><td>26</td><td>India</td><td>2021-05-12T00:20:29.276+0000</td><td>2021-05-12T11:53:33.191+0000</td><td>6.0</td></tr><tr><td>Amazon-In</td><td>ASIN05</td><td>ASINGROUP5</td><td>Chocolate box of 14</td><td>9 kg</td><td>110.0</td><td>12.22</td><td>true</td><td>was $202</td><td>110</td><td>PRICE_CUT</td><td>chocolate</td><td>5</td><td>India</td><td>2021-05-12T00:20:34.657+0000</td><td>2021-05-12T11:53:33.188+0000</td><td>9.0</td></tr><tr><td>Amazon-In</td><td>ASIN07</td><td>ASINGROUP7</td><td>Chocolate box of 16</td><td>11 kg</td><td>200.0</td><td>18.18</td><td>false</td><td>None</td><td>200</td><td>None</td><td>chocolate</td><td>45</td><td>India</td><td>2021-05-12T00:06:12.979+0000</td><td>2021-05-12T11:53:32.699+0000</td><td>11.0</td></tr><tr><td>Amazon-In</td><td>ASIN04</td><td>ASINGROUP4</td><td>Chocolate box of 13</td><td>8 kg</td><td>150.0</td><td>18.75</td><td>true</td><td>was $201</td><td>150</td><td>PRICE_CUT</td><td>chocolate</td><td>10</td><td>India</td><td>2021-05-12T00:07:11.911+0000</td><td>2021-05-12T11:53:32.321+0000</td><td>8.0</td></tr><tr><td>Amazon-us</td><td>ASIN106</td><td>ASINGROUP106</td><td>gums pack of 350</td><td>250 g</td><td>20.0</td><td>80.0</td><td>true</td><td>was $20</td><td>20</td><td>PRICE_CUT</td><td>gum</td><td>32</td><td>USA</td><td>2021-05-12T00:07:02.337+0000</td><td>2021-05-12T11:53:32.321+0000</td><td>0.25</td></tr><tr><td>Amazon-us</td><td>ASIN110</td><td>ASINGROUP110</td><td>gums pack of 550</td><td>390 g</td><td>28.0</td><td>71.79</td><td>false</td><td>None</td><td>28</td><td>None</td><td>gum</td><td>10</td><td>USA</td><td>2021-05-12T00:07:04.072+0000</td><td>2021-05-12T11:53:32.697+0000</td><td>0.39</td></tr><tr><td>Amazon-us</td><td>ASIN102</td><td>ASINGROUP102</td><td>gums pack of 150</td><td>90 g</td><td>12.0</td><td>133.33</td><td>false</td><td>None</td><td>12</td><td>None</td><td>gum</td><td>26</td><td>USA</td><td>2021-05-12T00:20:29.276+0000</td><td>2021-05-12T11:53:33.191+0000</td><td>0.09</td></tr><tr><td>Amazon-us</td><td>ASIN109</td><td>ASINGROUP109</td><td>gums pack of 500</td><td>350 g</td><td>26.0</td><td>74.29</td><td>false</td><td>None</td><td>26</td><td>None</td><td>gum</td><td>20</td><td>USA</td><td>2021-05-12T00:07:04.072+0000</td><td>2021-05-12T11:53:32.697+0000</td><td>0.35</td></tr><tr><td>Amazon-us</td><td>ASIN107</td><td>ASINGROUP107</td><td>gums pack of 400</td><td>290 g</td><td>22.0</td><td>75.86</td><td>false</td><td>None</td><td>22</td><td>None</td><td>gum</td><td>45</td><td>USA</td><td>2021-05-12T00:06:12.979+0000</td><td>2021-05-12T11:53:32.699+0000</td><td>0.29</td></tr></tbody></table></div>"
      ]
     },
     "metadata": {
      "application/vnd.databricks.v1+output": {
       "addedWidgets": {},
       "aggData": [],
       "aggError": "",
       "aggOverflow": false,
       "aggSchema": [],
       "aggSeriesLimitReached": false,
       "aggType": "",
       "arguments": {},
       "columnCustomDisplayInfos": {},
       "data": [
        [
         "Amazon-In",
         "ASIN06",
         "ASINGROUP6",
         "Chocolate box of 15",
         "10 kg",
         150.0,
         15.0,
         true,
         "was $203",
         150,
         "PRICE_CUT",
         "chocolate",
         32,
         "India",
         "2021-05-12T00:07:02.337+0000",
         "2021-05-12T11:53:32.321+0000",
         10.0
        ],
        [
         "Amazon-us",
         "ASIN103",
         "ASINGROUP103",
         "gums pack of 200",
         "130 g",
         14.0,
         107.69,
         true,
         "was $20",
         14,
         "PRICE_CUT",
         "gum",
         30,
         "USA",
         "2021-05-12T00:20:47.941+0000",
         "2021-05-12T11:53:33.189+0000",
         0.13
        ],
        [
         "Amazon-us",
         "ASIN105",
         "ASINGROUP105",
         "gums pack of 300",
         "210 g",
         18.0,
         85.71,
         true,
         "was $20",
         18,
         "PRICE_CUT",
         "gum",
         5,
         "USA",
         "2021-05-12T00:20:34.657+0000",
         "2021-05-12T11:53:33.188+0000",
         0.21
        ],
        [
         "Amazon-us",
         "ASIN108",
         "ASINGROUP108",
         "gums pack of 450",
         "310 g",
         24.0,
         77.42,
         true,
         "was $30",
         24,
         "PRICE_CUT",
         "gum",
         2,
         "USA",
         "2021-05-12T00:20:53.302+0000",
         "2021-05-12T11:53:32.692+0000",
         0.31
        ],
        [
         "Amazon-In",
         "ASIN08",
         "ASINGROUP8",
         "Chocolate box of 17",
         "12 kg",
         250.0,
         20.83,
         true,
         "was $300",
         250,
         "PRICE_CUT",
         "chocolate",
         2,
         "India",
         "2021-05-12T00:20:53.302+0000",
         "2021-05-12T11:53:32.692+0000",
         12.0
        ],
        [
         "Amazon-us",
         "ASIN104",
         "ASINGROUP104",
         "gums pack of 250",
         "170 g",
         16.0,
         94.12,
         true,
         "was $20",
         16,
         "PRICE_CUT",
         "gum",
         10,
         "USA",
         "2021-05-12T00:07:11.911+0000",
         "2021-05-12T11:53:32.321+0000",
         0.17
        ],
        [
         "Amazon-us",
         "ASIN101",
         "ASINGROUP101",
         "gums pack of 100",
         "50 g",
         10.0,
         200.0,
         false,
         "None",
         10,
         "None",
         "gum",
         19,
         "USA",
         "2021-05-12T00:07:04.072+0000",
         "2021-05-12T11:53:32.697+0000",
         0.05
        ],
        [
         "Amazon-In",
         "ASIN01",
         "ASINGROUP1",
         "Chocolate box of 10",
         "5 kg",
         100.0,
         20.0,
         false,
         "None",
         100,
         "None",
         "chocolate",
         19,
         "India",
         "2021-05-12T00:07:04.072+0000",
         "2021-05-12T11:53:32.697+0000",
         5.0
        ],
        [
         "Amazon-In",
         "ASIN09",
         "ASINGROUP9",
         "Chocolate box of 18",
         "13 kg",
         300.0,
         23.08,
         false,
         "None",
         300,
         "None",
         "chocolate",
         20,
         "India",
         "2021-05-12T00:07:04.072+0000",
         "2021-05-12T11:53:32.697+0000",
         13.0
        ],
        [
         "Amazon-In",
         "ASIN03",
         "ASINGROUP3",
         "Chocolate box of 12",
         "7 kg",
         170.0,
         24.29,
         true,
         "was $200",
         170,
         "PRICE_CUT",
         "chocolate",
         30,
         "India",
         "2021-05-12T00:20:47.941+0000",
         "2021-05-12T11:53:33.189+0000",
         7.0
        ],
        [
         "Amazon-In",
         "ASIN02",
         "ASINGROUP2",
         "Chocolate box of 11",
         "6 kg",
         150.0,
         25.0,
         false,
         "None",
         150,
         "None",
         "chocolate",
         26,
         "India",
         "2021-05-12T00:20:29.276+0000",
         "2021-05-12T11:53:33.191+0000",
         6.0
        ],
        [
         "Amazon-In",
         "ASIN05",
         "ASINGROUP5",
         "Chocolate box of 14",
         "9 kg",
         110.0,
         12.22,
         true,
         "was $202",
         110,
         "PRICE_CUT",
         "chocolate",
         5,
         "India",
         "2021-05-12T00:20:34.657+0000",
         "2021-05-12T11:53:33.188+0000",
         9.0
        ],
        [
         "Amazon-In",
         "ASIN07",
         "ASINGROUP7",
         "Chocolate box of 16",
         "11 kg",
         200.0,
         18.18,
         false,
         "None",
         200,
         "None",
         "chocolate",
         45,
         "India",
         "2021-05-12T00:06:12.979+0000",
         "2021-05-12T11:53:32.699+0000",
         11.0
        ],
        [
         "Amazon-In",
         "ASIN04",
         "ASINGROUP4",
         "Chocolate box of 13",
         "8 kg",
         150.0,
         18.75,
         true,
         "was $201",
         150,
         "PRICE_CUT",
         "chocolate",
         10,
         "India",
         "2021-05-12T00:07:11.911+0000",
         "2021-05-12T11:53:32.321+0000",
         8.0
        ],
        [
         "Amazon-us",
         "ASIN106",
         "ASINGROUP106",
         "gums pack of 350",
         "250 g",
         20.0,
         80.0,
         true,
         "was $20",
         20,
         "PRICE_CUT",
         "gum",
         32,
         "USA",
         "2021-05-12T00:07:02.337+0000",
         "2021-05-12T11:53:32.321+0000",
         0.25
        ],
        [
         "Amazon-us",
         "ASIN110",
         "ASINGROUP110",
         "gums pack of 550",
         "390 g",
         28.0,
         71.79,
         false,
         "None",
         28,
         "None",
         "gum",
         10,
         "USA",
         "2021-05-12T00:07:04.072+0000",
         "2021-05-12T11:53:32.697+0000",
         0.39
        ],
        [
         "Amazon-us",
         "ASIN102",
         "ASINGROUP102",
         "gums pack of 150",
         "90 g",
         12.0,
         133.33,
         false,
         "None",
         12,
         "None",
         "gum",
         26,
         "USA",
         "2021-05-12T00:20:29.276+0000",
         "2021-05-12T11:53:33.191+0000",
         0.09
        ],
        [
         "Amazon-us",
         "ASIN109",
         "ASINGROUP109",
         "gums pack of 500",
         "350 g",
         26.0,
         74.29,
         false,
         "None",
         26,
         "None",
         "gum",
         20,
         "USA",
         "2021-05-12T00:07:04.072+0000",
         "2021-05-12T11:53:32.697+0000",
         0.35
        ],
        [
         "Amazon-us",
         "ASIN107",
         "ASINGROUP107",
         "gums pack of 400",
         "290 g",
         22.0,
         75.86,
         false,
         "None",
         22,
         "None",
         "gum",
         45,
         "USA",
         "2021-05-12T00:06:12.979+0000",
         "2021-05-12T11:53:32.699+0000",
         0.29
        ]
       ],
       "datasetInfos": [],
       "dbfsResultPath": null,
       "isJsonSchema": true,
       "metadata": {},
       "overflow": false,
       "plotOptions": {
        "customPlotOptions": {},
        "displayType": "table",
        "pivotAggregation": null,
        "pivotColumns": null,
        "xColumns": null,
        "yColumns": null
       },
       "removedWidgets": [],
       "schema": [
        {
         "metadata": "{}",
         "name": "retailer",
         "type": "\"string\""
        },
        {
         "metadata": "{}",
         "name": "retailer_product_id",
         "type": "\"string\""
        },
        {
         "metadata": "{}",
         "name": "retailer_group_id",
         "type": "\"string\""
        },
        {
         "metadata": "{}",
         "name": "retailer_product_name",
         "type": "\"string\""
        },
        {
         "metadata": "{}",
         "name": "net_quantity",
         "type": "\"string\""
        },
        {
         "metadata": "{}",
         "name": "price",
         "type": "\"double\""
        },
        {
         "metadata": "{}",
         "name": "price_per_unit",
         "type": "\"double\""
        },
        {
         "metadata": "{}",
         "name": "sponsored",
         "type": "\"boolean\""
        },
        {
         "metadata": "{}",
         "name": "promotion_text",
         "type": "\"string\""
        },
        {
         "metadata": "{}",
         "name": "parsed_price",
         "type": "\"integer\""
        },
        {
         "metadata": "{}",
         "name": "promotion_type",
         "type": "\"string\""
        },
        {
         "metadata": "{}",
         "name": "search_term",
         "type": "\"string\""
        },
        {
         "metadata": "{}",
         "name": "rank",
         "type": "\"integer\""
        },
        {
         "metadata": "{}",
         "name": "country",
         "type": "\"string\""
        },
        {
         "metadata": "{}",
         "name": "gathered_timestamp",
         "type": "\"timestamp\""
        },
        {
         "metadata": "{}",
         "name": "insert_timestamp",
         "type": "\"timestamp\""
        },
        {
         "metadata": "{}",
         "name": "net_quantity_kg",
         "type": "\"double\""
        }
       ],
       "type": "table"
      }
     },
     "output_type": "display_data"
    }
   ],
   "source": [
    "display(data)"
   ]
  },
  {
   "cell_type": "code",
   "execution_count": 0,
   "metadata": {
    "application/vnd.databricks.v1+cell": {
     "cellMetadata": {
      "byteLimit": 2048000,
      "rowLimit": 10000
     },
     "inputWidgets": {},
     "nuid": "4e4d506c-56ad-4c42-94cc-97f8384a6aaf",
     "showTitle": false,
     "title": ""
    }
   },
   "outputs": [],
   "source": [
    "# Step 15: Create a table/view on the spark df to run SQL queries\n",
    "data.createOrReplaceTempView(\"myTable\")"
   ]
  },
  {
   "cell_type": "code",
   "execution_count": 0,
   "metadata": {
    "application/vnd.databricks.v1+cell": {
     "cellMetadata": {
      "byteLimit": 2048000,
      "implicitDf": true,
      "rowLimit": 10000
     },
     "inputWidgets": {},
     "nuid": "1a069a97-a6a3-4e00-8f83-596b37acd5da",
     "showTitle": false,
     "title": ""
    }
   },
   "outputs": [
    {
     "output_type": "display_data",
     "data": {
      "text/html": [
       "<style scoped>\n",
       "  .table-result-container {\n",
       "    max-height: 300px;\n",
       "    overflow: auto;\n",
       "  }\n",
       "  table, th, td {\n",
       "    border: 1px solid black;\n",
       "    border-collapse: collapse;\n",
       "  }\n",
       "  th, td {\n",
       "    padding: 5px;\n",
       "  }\n",
       "  th {\n",
       "    text-align: left;\n",
       "  }\n",
       "</style><div class='table-result-container'><table class='table-result'><thead style='background-color: white'><tr><th>retailer</th><th>retailer_product_name</th><th>parsed_price</th><th>price_per_unit</th></tr></thead><tbody><tr><td>Amazon-In</td><td>Chocolate box of 15</td><td>150</td><td>15.0</td></tr><tr><td>Amazon-us</td><td>gums pack of 200</td><td>14</td><td>107.69</td></tr><tr><td>Amazon-us</td><td>gums pack of 300</td><td>18</td><td>85.71</td></tr><tr><td>Amazon-us</td><td>gums pack of 450</td><td>24</td><td>77.42</td></tr><tr><td>Amazon-In</td><td>Chocolate box of 17</td><td>250</td><td>20.83</td></tr><tr><td>Amazon-us</td><td>gums pack of 250</td><td>16</td><td>94.12</td></tr><tr><td>Amazon-In</td><td>Chocolate box of 12</td><td>170</td><td>24.29</td></tr><tr><td>Amazon-In</td><td>Chocolate box of 14</td><td>110</td><td>12.22</td></tr><tr><td>Amazon-In</td><td>Chocolate box of 13</td><td>150</td><td>18.75</td></tr><tr><td>Amazon-us</td><td>gums pack of 350</td><td>20</td><td>80.0</td></tr></tbody></table></div>"
      ]
     },
     "metadata": {
      "application/vnd.databricks.v1+output": {
       "addedWidgets": {},
       "aggData": [],
       "aggError": "",
       "aggOverflow": false,
       "aggSchema": [],
       "aggSeriesLimitReached": false,
       "aggType": "",
       "arguments": {},
       "columnCustomDisplayInfos": {},
       "data": [
        [
         "Amazon-In",
         "Chocolate box of 15",
         150,
         15.0
        ],
        [
         "Amazon-us",
         "gums pack of 200",
         14,
         107.69
        ],
        [
         "Amazon-us",
         "gums pack of 300",
         18,
         85.71
        ],
        [
         "Amazon-us",
         "gums pack of 450",
         24,
         77.42
        ],
        [
         "Amazon-In",
         "Chocolate box of 17",
         250,
         20.83
        ],
        [
         "Amazon-us",
         "gums pack of 250",
         16,
         94.12
        ],
        [
         "Amazon-In",
         "Chocolate box of 12",
         170,
         24.29
        ],
        [
         "Amazon-In",
         "Chocolate box of 14",
         110,
         12.22
        ],
        [
         "Amazon-In",
         "Chocolate box of 13",
         150,
         18.75
        ],
        [
         "Amazon-us",
         "gums pack of 350",
         20,
         80.0
        ]
       ],
       "datasetInfos": [],
       "dbfsResultPath": null,
       "isJsonSchema": true,
       "metadata": {
        "dataframeName": "_sqldf",
        "executionCount": 108
       },
       "overflow": false,
       "plotOptions": {
        "customPlotOptions": {},
        "displayType": "table",
        "pivotAggregation": null,
        "pivotColumns": null,
        "xColumns": null,
        "yColumns": null
       },
       "removedWidgets": [],
       "schema": [
        {
         "metadata": "{}",
         "name": "retailer",
         "type": "\"string\""
        },
        {
         "metadata": "{}",
         "name": "retailer_product_name",
         "type": "\"string\""
        },
        {
         "metadata": "{}",
         "name": "parsed_price",
         "type": "\"integer\""
        },
        {
         "metadata": "{}",
         "name": "price_per_unit",
         "type": "\"double\""
        }
       ],
       "type": "table"
      }
     },
     "output_type": "display_data"
    }
   ],
   "source": [
    "%sql\n",
    "select retailer, retailer_product_name, parsed_price, price_per_unit\n",
    "from myTable\n",
    "where sponsored = true"
   ]
  },
  {
   "cell_type": "code",
   "execution_count": 0,
   "metadata": {
    "application/vnd.databricks.v1+cell": {
     "cellMetadata": {
      "byteLimit": 2048000,
      "implicitDf": true,
      "rowLimit": 10000
     },
     "inputWidgets": {},
     "nuid": "35e4b065-afe5-48cb-8046-573af0660f26",
     "showTitle": false,
     "title": ""
    }
   },
   "outputs": [
    {
     "output_type": "display_data",
     "data": {
      "text/html": [
       "<style scoped>\n",
       "  .table-result-container {\n",
       "    max-height: 300px;\n",
       "    overflow: auto;\n",
       "  }\n",
       "  table, th, td {\n",
       "    border: 1px solid black;\n",
       "    border-collapse: collapse;\n",
       "  }\n",
       "  th, td {\n",
       "    padding: 5px;\n",
       "  }\n",
       "  th {\n",
       "    text-align: left;\n",
       "  }\n",
       "</style><div class='table-result-container'><table class='table-result'><thead style='background-color: white'><tr><th>retailer</th><th>retailer_product_id</th><th>retailer_group_id</th><th>retailer_product_name</th><th>net_quantity</th><th>price</th><th>price_per_unit</th><th>sponsored</th><th>promotion_text</th><th>parsed_price</th><th>promotion_type</th><th>search_term</th><th>rank</th><th>country</th><th>gathered_timestamp</th><th>insert_timestamp</th><th>net_quantity_kg</th></tr></thead><tbody><tr><td>Amazon-In</td><td>ASIN06</td><td>ASINGROUP6</td><td>Chocolate box of 15</td><td>10 kg</td><td>150.0</td><td>15.0</td><td>true</td><td>was $203</td><td>150</td><td>PRICE_CUT</td><td>chocolate</td><td>32</td><td>India</td><td>2021-05-12T00:07:02.337+0000</td><td>2021-05-12T11:53:32.321+0000</td><td>10.0</td></tr><tr><td>Amazon-us</td><td>ASIN103</td><td>ASINGROUP103</td><td>gums pack of 200</td><td>130 g</td><td>14.0</td><td>107.69</td><td>true</td><td>was $20</td><td>14</td><td>PRICE_CUT</td><td>gum</td><td>30</td><td>USA</td><td>2021-05-12T00:20:47.941+0000</td><td>2021-05-12T11:53:33.189+0000</td><td>0.13</td></tr><tr><td>Amazon-us</td><td>ASIN105</td><td>ASINGROUP105</td><td>gums pack of 300</td><td>210 g</td><td>18.0</td><td>85.71</td><td>true</td><td>was $20</td><td>18</td><td>PRICE_CUT</td><td>gum</td><td>5</td><td>USA</td><td>2021-05-12T00:20:34.657+0000</td><td>2021-05-12T11:53:33.188+0000</td><td>0.21</td></tr><tr><td>Amazon-us</td><td>ASIN108</td><td>ASINGROUP108</td><td>gums pack of 450</td><td>310 g</td><td>24.0</td><td>77.42</td><td>true</td><td>was $30</td><td>24</td><td>PRICE_CUT</td><td>gum</td><td>2</td><td>USA</td><td>2021-05-12T00:20:53.302+0000</td><td>2021-05-12T11:53:32.692+0000</td><td>0.31</td></tr><tr><td>Amazon-In</td><td>ASIN08</td><td>ASINGROUP8</td><td>Chocolate box of 17</td><td>12 kg</td><td>250.0</td><td>20.83</td><td>true</td><td>was $300</td><td>250</td><td>PRICE_CUT</td><td>chocolate</td><td>2</td><td>India</td><td>2021-05-12T00:20:53.302+0000</td><td>2021-05-12T11:53:32.692+0000</td><td>12.0</td></tr><tr><td>Amazon-us</td><td>ASIN104</td><td>ASINGROUP104</td><td>gums pack of 250</td><td>170 g</td><td>16.0</td><td>94.12</td><td>true</td><td>was $20</td><td>16</td><td>PRICE_CUT</td><td>gum</td><td>10</td><td>USA</td><td>2021-05-12T00:07:11.911+0000</td><td>2021-05-12T11:53:32.321+0000</td><td>0.17</td></tr><tr><td>Amazon-In</td><td>ASIN03</td><td>ASINGROUP3</td><td>Chocolate box of 12</td><td>7 kg</td><td>170.0</td><td>24.29</td><td>true</td><td>was $200</td><td>170</td><td>PRICE_CUT</td><td>chocolate</td><td>30</td><td>India</td><td>2021-05-12T00:20:47.941+0000</td><td>2021-05-12T11:53:33.189+0000</td><td>7.0</td></tr><tr><td>Amazon-In</td><td>ASIN05</td><td>ASINGROUP5</td><td>Chocolate box of 14</td><td>9 kg</td><td>110.0</td><td>12.22</td><td>true</td><td>was $202</td><td>110</td><td>PRICE_CUT</td><td>chocolate</td><td>5</td><td>India</td><td>2021-05-12T00:20:34.657+0000</td><td>2021-05-12T11:53:33.188+0000</td><td>9.0</td></tr><tr><td>Amazon-In</td><td>ASIN04</td><td>ASINGROUP4</td><td>Chocolate box of 13</td><td>8 kg</td><td>150.0</td><td>18.75</td><td>true</td><td>was $201</td><td>150</td><td>PRICE_CUT</td><td>chocolate</td><td>10</td><td>India</td><td>2021-05-12T00:07:11.911+0000</td><td>2021-05-12T11:53:32.321+0000</td><td>8.0</td></tr><tr><td>Amazon-us</td><td>ASIN106</td><td>ASINGROUP106</td><td>gums pack of 350</td><td>250 g</td><td>20.0</td><td>80.0</td><td>true</td><td>was $20</td><td>20</td><td>PRICE_CUT</td><td>gum</td><td>32</td><td>USA</td><td>2021-05-12T00:07:02.337+0000</td><td>2021-05-12T11:53:32.321+0000</td><td>0.25</td></tr></tbody></table></div>"
      ]
     },
     "metadata": {
      "application/vnd.databricks.v1+output": {
       "addedWidgets": {},
       "aggData": [],
       "aggError": "",
       "aggOverflow": false,
       "aggSchema": [],
       "aggSeriesLimitReached": false,
       "aggType": "",
       "arguments": {},
       "columnCustomDisplayInfos": {},
       "data": [
        [
         "Amazon-In",
         "ASIN06",
         "ASINGROUP6",
         "Chocolate box of 15",
         "10 kg",
         150.0,
         15.0,
         true,
         "was $203",
         150,
         "PRICE_CUT",
         "chocolate",
         32,
         "India",
         "2021-05-12T00:07:02.337+0000",
         "2021-05-12T11:53:32.321+0000",
         10.0
        ],
        [
         "Amazon-us",
         "ASIN103",
         "ASINGROUP103",
         "gums pack of 200",
         "130 g",
         14.0,
         107.69,
         true,
         "was $20",
         14,
         "PRICE_CUT",
         "gum",
         30,
         "USA",
         "2021-05-12T00:20:47.941+0000",
         "2021-05-12T11:53:33.189+0000",
         0.13
        ],
        [
         "Amazon-us",
         "ASIN105",
         "ASINGROUP105",
         "gums pack of 300",
         "210 g",
         18.0,
         85.71,
         true,
         "was $20",
         18,
         "PRICE_CUT",
         "gum",
         5,
         "USA",
         "2021-05-12T00:20:34.657+0000",
         "2021-05-12T11:53:33.188+0000",
         0.21
        ],
        [
         "Amazon-us",
         "ASIN108",
         "ASINGROUP108",
         "gums pack of 450",
         "310 g",
         24.0,
         77.42,
         true,
         "was $30",
         24,
         "PRICE_CUT",
         "gum",
         2,
         "USA",
         "2021-05-12T00:20:53.302+0000",
         "2021-05-12T11:53:32.692+0000",
         0.31
        ],
        [
         "Amazon-In",
         "ASIN08",
         "ASINGROUP8",
         "Chocolate box of 17",
         "12 kg",
         250.0,
         20.83,
         true,
         "was $300",
         250,
         "PRICE_CUT",
         "chocolate",
         2,
         "India",
         "2021-05-12T00:20:53.302+0000",
         "2021-05-12T11:53:32.692+0000",
         12.0
        ],
        [
         "Amazon-us",
         "ASIN104",
         "ASINGROUP104",
         "gums pack of 250",
         "170 g",
         16.0,
         94.12,
         true,
         "was $20",
         16,
         "PRICE_CUT",
         "gum",
         10,
         "USA",
         "2021-05-12T00:07:11.911+0000",
         "2021-05-12T11:53:32.321+0000",
         0.17
        ],
        [
         "Amazon-In",
         "ASIN03",
         "ASINGROUP3",
         "Chocolate box of 12",
         "7 kg",
         170.0,
         24.29,
         true,
         "was $200",
         170,
         "PRICE_CUT",
         "chocolate",
         30,
         "India",
         "2021-05-12T00:20:47.941+0000",
         "2021-05-12T11:53:33.189+0000",
         7.0
        ],
        [
         "Amazon-In",
         "ASIN05",
         "ASINGROUP5",
         "Chocolate box of 14",
         "9 kg",
         110.0,
         12.22,
         true,
         "was $202",
         110,
         "PRICE_CUT",
         "chocolate",
         5,
         "India",
         "2021-05-12T00:20:34.657+0000",
         "2021-05-12T11:53:33.188+0000",
         9.0
        ],
        [
         "Amazon-In",
         "ASIN04",
         "ASINGROUP4",
         "Chocolate box of 13",
         "8 kg",
         150.0,
         18.75,
         true,
         "was $201",
         150,
         "PRICE_CUT",
         "chocolate",
         10,
         "India",
         "2021-05-12T00:07:11.911+0000",
         "2021-05-12T11:53:32.321+0000",
         8.0
        ],
        [
         "Amazon-us",
         "ASIN106",
         "ASINGROUP106",
         "gums pack of 350",
         "250 g",
         20.0,
         80.0,
         true,
         "was $20",
         20,
         "PRICE_CUT",
         "gum",
         32,
         "USA",
         "2021-05-12T00:07:02.337+0000",
         "2021-05-12T11:53:32.321+0000",
         0.25
        ]
       ],
       "datasetInfos": [],
       "dbfsResultPath": null,
       "isJsonSchema": true,
       "metadata": {
        "dataframeName": "_sqldf",
        "executionCount": 109
       },
       "overflow": false,
       "plotOptions": {
        "customPlotOptions": {},
        "displayType": "table",
        "pivotAggregation": null,
        "pivotColumns": null,
        "xColumns": null,
        "yColumns": null
       },
       "removedWidgets": [],
       "schema": [
        {
         "metadata": "{}",
         "name": "retailer",
         "type": "\"string\""
        },
        {
         "metadata": "{}",
         "name": "retailer_product_id",
         "type": "\"string\""
        },
        {
         "metadata": "{}",
         "name": "retailer_group_id",
         "type": "\"string\""
        },
        {
         "metadata": "{}",
         "name": "retailer_product_name",
         "type": "\"string\""
        },
        {
         "metadata": "{}",
         "name": "net_quantity",
         "type": "\"string\""
        },
        {
         "metadata": "{}",
         "name": "price",
         "type": "\"double\""
        },
        {
         "metadata": "{}",
         "name": "price_per_unit",
         "type": "\"double\""
        },
        {
         "metadata": "{}",
         "name": "sponsored",
         "type": "\"boolean\""
        },
        {
         "metadata": "{}",
         "name": "promotion_text",
         "type": "\"string\""
        },
        {
         "metadata": "{}",
         "name": "parsed_price",
         "type": "\"integer\""
        },
        {
         "metadata": "{}",
         "name": "promotion_type",
         "type": "\"string\""
        },
        {
         "metadata": "{}",
         "name": "search_term",
         "type": "\"string\""
        },
        {
         "metadata": "{}",
         "name": "rank",
         "type": "\"integer\""
        },
        {
         "metadata": "{}",
         "name": "country",
         "type": "\"string\""
        },
        {
         "metadata": "{}",
         "name": "gathered_timestamp",
         "type": "\"timestamp\""
        },
        {
         "metadata": "{}",
         "name": "insert_timestamp",
         "type": "\"timestamp\""
        },
        {
         "metadata": "{}",
         "name": "net_quantity_kg",
         "type": "\"double\""
        }
       ],
       "type": "table"
      }
     },
     "output_type": "display_data"
    }
   ],
   "source": [
    "%sql\n",
    "select *\n",
    "from myTable\n",
    "where promotion_type != 'None' and sponsored = True"
   ]
  },
  {
   "cell_type": "code",
   "execution_count": 0,
   "metadata": {
    "application/vnd.databricks.v1+cell": {
     "cellMetadata": {
      "byteLimit": 2048000,
      "rowLimit": 10000
     },
     "inputWidgets": {},
     "nuid": "6e0b8746-01a8-4223-b71e-37af8fef0d98",
     "showTitle": false,
     "title": ""
    }
   },
   "outputs": [
    {
     "output_type": "execute_result",
     "data": {
      "text/plain": [
       "[FileInfo(path='abfss://gold@dhyaneshcapadls.dfs.core.windows.net/processed_data_csv/', name='processed_data_csv/', size=0, modificationTime=1697044541000),\n",
       " FileInfo(path='abfss://gold@dhyaneshcapadls.dfs.core.windows.net/processed_data_pqt/', name='processed_data_pqt/', size=0, modificationTime=1697044540000)]"
      ]
     },
     "execution_count": 110,
     "metadata": {},
     "output_type": "execute_result"
    }
   ],
   "source": [
    "dbutils.fs.ls(\"abfss://gold@dhyaneshcapadls.dfs.core.windows.net/\")"
   ]
  },
  {
   "cell_type": "code",
   "execution_count": 0,
   "metadata": {
    "application/vnd.databricks.v1+cell": {
     "cellMetadata": {
      "byteLimit": 2048000,
      "rowLimit": 10000
     },
     "inputWidgets": {},
     "nuid": "86d0ec8b-84a0-4ced-bbb9-579553ef700c",
     "showTitle": false,
     "title": ""
    }
   },
   "outputs": [],
   "source": [
    "# Define the path to the Azure Data Lake Storage 'gold' container\n",
    "adls_gold_container = \"abfss://gold@dhyaneshcapadls.dfs.core.windows.net/\"\n",
    "\n",
    "# Specify the output directory within the 'gold' container\n",
    "output_directory = adls_gold_container + \"/processed_data_pqt\"\n",
    "\n",
    "# Write the DataFrame to Parquet format with partitioning\n",
    "data.write.mode(\"overwrite\").partitionBy(\"country\").option(\"header\", \"true\").parquet(output_directory)\n"
   ]
  },
  {
   "cell_type": "code",
   "execution_count": 0,
   "metadata": {
    "application/vnd.databricks.v1+cell": {
     "cellMetadata": {
      "byteLimit": 2048000,
      "rowLimit": 10000
     },
     "inputWidgets": {},
     "nuid": "948440b4-c865-48c1-84ad-f0ba2c4395b0",
     "showTitle": false,
     "title": ""
    }
   },
   "outputs": [],
   "source": [
    "# Save the DataFrame as a CSV file with a custom name in Azure Data Lake Storage\n",
    "output_directory2 = adls_gold_container + \"processed_data_csv\"\n",
    "data.write.csv(output_directory2, mode=\"overwrite\", header=True)"
   ]
  },
  {
   "cell_type": "code",
   "execution_count": 0,
   "metadata": {
    "application/vnd.databricks.v1+cell": {
     "cellMetadata": {
      "byteLimit": 2048000,
      "rowLimit": 10000
     },
     "inputWidgets": {},
     "nuid": "82112a0c-4576-47cd-b709-1b222fab2a25",
     "showTitle": false,
     "title": ""
    }
   },
   "outputs": [],
   "source": [
    "# Specify the output directory within the 'gold' container\n",
    "adls_gold_container = \"abfss://gold@dhyaneshcapadls.dfs.core.windows.net/\"\n",
    "output_directory3 = adls_gold_container + \"/processed_data_delta\"\n",
    "data.write.mode(\"overwrite\").format(\"delta\").partitionBy(\"country\").option(\"header\", \"true\").save(output_directory3)"
   ]
  },
  {
   "cell_type": "code",
   "execution_count": 0,
   "metadata": {
    "application/vnd.databricks.v1+cell": {
     "cellMetadata": {
      "byteLimit": 2048000,
      "rowLimit": 10000
     },
     "inputWidgets": {},
     "nuid": "e2759c81-e3b8-4073-b9ce-2ee432396c95",
     "showTitle": false,
     "title": ""
    }
   },
   "outputs": [
    {
     "output_type": "execute_result",
     "data": {
      "text/plain": [
       "[FileInfo(path='abfss://gold@dhyaneshcapadls.dfs.core.windows.net/processed_data_csv/', name='processed_data_csv/', size=0, modificationTime=1697044541000),\n",
       " FileInfo(path='abfss://gold@dhyaneshcapadls.dfs.core.windows.net/processed_data_delta/', name='processed_data_delta/', size=0, modificationTime=1697289861000),\n",
       " FileInfo(path='abfss://gold@dhyaneshcapadls.dfs.core.windows.net/processed_data_pqt/', name='processed_data_pqt/', size=0, modificationTime=1697044540000)]"
      ]
     },
     "execution_count": 113,
     "metadata": {},
     "output_type": "execute_result"
    }
   ],
   "source": [
    "dbutils.fs.ls(\"abfss://gold@dhyaneshcapadls.dfs.core.windows.net/\")"
   ]
  }
 ],
 "metadata": {
  "application/vnd.databricks.v1+notebook": {
   "dashboards": [],
   "language": "python",
   "notebookMetadata": {
    "mostRecentlyExecutedCommandWithImplicitDF": {
     "commandId": 3413257106040714,
     "dataframes": [
      "_sqldf"
     ]
    },
    "pythonIndentUnit": 4
   },
   "notebookName": "spark-transformations-dhyanesh-Capstone",
   "widgets": {}
  }
 },
 "nbformat": 4,
 "nbformat_minor": 0
}
